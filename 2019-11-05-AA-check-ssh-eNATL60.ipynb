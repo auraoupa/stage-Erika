{
 "cells": [
  {
   "cell_type": "code",
   "execution_count": 1,
   "metadata": {},
   "outputs": [
    {
     "name": "stderr",
     "output_type": "stream",
     "text": [
      "/home/alberta/anaconda2/envs/pangeo-cloud/lib/python3.6/site-packages/dask/config.py:168: YAMLLoadWarning: calling yaml.load() without Loader=... is deprecated, as the default Loader is unsafe. Please read https://msg.pyyaml.org/load for full details.\n",
      "  data = yaml.load(f.read()) or {}\n"
     ]
    }
   ],
   "source": [
    "#!/usr/bin/env python\n",
    "\n",
    "from dask.distributed import Client, progress\n",
    "# HPC\n",
    "# client = Client(scheduler_file='/glade/scratch/jhamman/scheduler.json')\n",
    "# client\n",
    "\n",
    "from dask_kubernetes import KubeCluster\n",
    "cluster = KubeCluster(n_workers=4)\n",
    "cluster\n",
    "\n",
    "\n",
    "cluster"
   ]
  },
  {
   "cell_type": "code",
   "execution_count": null,
   "metadata": {},
   "outputs": [],
   "source": [
    "\n",
    "client = Client(cluster)\n",
    "\n",
    "client"
   ]
  },
  {
   "cell_type": "code",
   "execution_count": 3,
   "metadata": {},
   "outputs": [],
   "source": [
    "import xarray as xr\n",
    "import dask\n",
    "import dask.threaded\n",
    "import dask.multiprocessing\n",
    "from dask.distributed import Client\n",
    "import numpy as np                                                                                        \n",
    "import zarr\n"
   ]
  },
  {
   "cell_type": "code",
   "execution_count": null,
   "metadata": {},
   "outputs": [],
   "source": [
    "import sys, glob\n",
    "import numpy as np\n",
    "import xarray as xr\n",
    "import xscale.spectral.fft as xfft\n",
    "import xscale \n",
    "import Wavenum_freq_spec_func as wfs\n",
    "import time\n",
    "import gcsfs\n",
    "\n"
   ]
  },
  {
   "cell_type": "code",
   "execution_count": 4,
   "metadata": {},
   "outputs": [],
   "source": [
    "%time\n",
    "\n",
    "fs = gcsfs.GCSFileSystem(project='pangeo-181919', token='anon', access='read_only')\n",
    "gcs = gcsfs.GCSFileSystem(gcs=fs,check=False,create=False)\n",
    "\n",
    "mapzarr = gcs.get_mapper('pangeo-data/eNATL60-BLBT02X-ssh')\n",
    "ds = xr.open_zarr(mapzarr)\n",
    "\n"
   ]
  },
  {
   "cell_type": "code",
   "execution_count": 5,
   "metadata": {},
   "outputs": [
    {
     "data": {
      "text/plain": [
       "<xarray.Dataset>\n",
       "Dimensions:               (axis_nbounds: 2, time_counter: 11688, x: 8354, y: 4729)\n",
       "Coordinates:\n",
       "    time_centered         (time_counter) datetime64[ns] dask.array<shape=(11688,), chunksize=(240,)>\n",
       "  * time_counter          (time_counter) datetime64[ns] 2010-01-19T00:30:00 ... 2009-09-17T23:30:00\n",
       "Dimensions without coordinates: axis_nbounds, x, y\n",
       "Data variables:\n",
       "    nav_lat               (y, x) float32 dask.array<shape=(4729, 8354), chunksize=(240, 480)>\n",
       "    nav_lon               (y, x) float32 dask.array<shape=(4729, 8354), chunksize=(240, 480)>\n",
       "    sossheig              (time_counter, y, x) float32 dask.array<shape=(11688, 4729, 8354), chunksize=(240, 240, 480)>\n",
       "    time_centered_bounds  (time_counter, axis_nbounds) datetime64[ns] dask.array<shape=(11688, 2), chunksize=(240, 2)>\n",
       "    time_counter_bounds   (time_counter, axis_nbounds) datetime64[ns] dask.array<shape=(11688, 2), chunksize=(240, 2)>\n",
       "Attributes:\n",
       "    Conventions:  CF-1.6\n",
       "    TimeStamp:    24/03/2019 14:43:29 +0100\n",
       "    description:  ocean T grid variables\n",
       "    file_name:    eNATL60-BLBT02X_1h_20100101_20100125_gridT-2D_20100119-2010...\n",
       "    ibegin:       0\n",
       "    jbegin:       0\n",
       "    name:         /scratch/tmp/5251284/eNATL60-BLBT02X_1h_20100101_20100125_g...\n",
       "    ni:           8354\n",
       "    nj:           10\n",
       "    timeStamp:    2019-Mar-24 06:31:35 GMT\n",
       "    title:        ocean T grid variables\n",
       "    uuid:         80877374-74d2-468e-9fc6-d8cae8009094"
      ]
     },
     "execution_count": 5,
     "metadata": {},
     "output_type": "execute_result"
    }
   ],
   "source": [
    "ds"
   ]
  },
  {
   "cell_type": "code",
   "execution_count": null,
   "metadata": {},
   "outputs": [],
   "source": [
    "date='2009-10-01T00:30:00'\n",
    "lat=ds.nav_lat.values\n",
    "lon=ds.nav_lon.values\n",
    "\n",
    "\n",
    "data=ds.sel(time_counter=date)['sossheig']\n",
    "fig=plt.figure(figsize=(20,15))\n",
    "data.plot()"
   ]
  },
  {
   "cell_type": "code",
   "execution_count": null,
   "metadata": {},
   "outputs": [],
   "source": [
    "import matplotlib.pyplot as plt\n",
    "import cartopy.crs as ccrs\n",
    "import cartopy.feature as cfeature\n",
    "from cartopy.mpl.gridliner import LONGITUDE_FORMATTER, LATITUDE_FORMATTER\n",
    "\n",
    "import matplotlib.cm as mplcm\n",
    "\n",
    "seq_cmap = mplcm.Blues\n",
    "div_cmap = mplcm.seismic\n"
   ]
  },
  {
   "cell_type": "code",
   "execution_count": null,
   "metadata": {},
   "outputs": [],
   "source": [
    "def plot_surf(sub,data,lon,lat,vmin,vmax,cmap,title,date):\n",
    "    \n",
    "    ax = plt.subplot(sub,projection=ccrs.PlateCarree(central_longitude=0))\n",
    "    land = cfeature.GSHHSFeature(scale='intermediate',\n",
    "                                 levels=[1],\n",
    "                                 facecolor=cfeature.COLORS['land'])\n",
    "    ax.add_feature(land)\n",
    "    gl = ax.gridlines(draw_labels=True, linestyle=':', color='black',\n",
    "                      alpha=0.5)\n",
    "    gl.xlabels_top = False\n",
    "    gl.ylabels_right = False\n",
    "    gl.xformatter = LONGITUDE_FORMATTER\n",
    "    gl.yformatter = LATITUDE_FORMATTER\n",
    "    ax.tick_params('both',labelsize=22)\n",
    "\n",
    "    plt.pcolormesh(lon,lat,data,cmap=cmap,vmin=vmin,vmax=vmax )\n",
    "    plt.colorbar(orientation='horizontal',pad=0.1, aspect=50)\n",
    "    plt.title(title)\n",
    "    ax.text(0.57, -0.08, date, transform=ax.transAxes)\n"
   ]
  },
  {
   "cell_type": "code",
   "execution_count": null,
   "metadata": {},
   "outputs": [],
   "source": [
    "mapcoord = gcs.get_mapper('pangeo-data/eNATL60-I/zarr_coord_eNATL60')\n",
    "dscoord=xr.open_zarr(mapcoord)\n",
    "\n",
    "date='2009-10-01T00:30:00'\n",
    "lat=dscoord.nav_lat.values\n",
    "lon=dscoord.nav_lon.values\n",
    "\n",
    "\n",
    "data=ds.sel(time_counter=date)['sossheig'].values\n",
    "\n",
    "fig=plt.figure(figsize=(20,15))\n",
    "plot_surf(111,data[0],lon,lat,-2,2,div_cmap,'SSH eNATL60',date)"
   ]
  }
 ],
 "metadata": {
  "kernelspec": {
   "display_name": "pangeo_cloud",
   "language": "python",
   "name": "pangeo-cloud"
  },
  "language_info": {
   "codemirror_mode": {
    "name": "ipython",
    "version": 3
   },
   "file_extension": ".py",
   "mimetype": "text/x-python",
   "name": "python",
   "nbconvert_exporter": "python",
   "pygments_lexer": "ipython3",
   "version": "3.6.7"
  }
 },
 "nbformat": 4,
 "nbformat_minor": 2
}
