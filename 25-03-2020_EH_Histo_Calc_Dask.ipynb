{
 "cells": [
  {
   "cell_type": "code",
   "execution_count": 1,
   "metadata": {},
   "outputs": [
    {
     "data": {
      "text/html": [
       "<table style=\"border: 2px solid white;\">\n",
       "<tr>\n",
       "<td style=\"vertical-align: top; border: 0px solid white\">\n",
       "<h3 style=\"text-align: left;\">Client</h3>\n",
       "<ul style=\"text-align: left; list-style: none; margin: 0; padding: 0;\">\n",
       "  <li><b>Scheduler: </b>tcp://127.0.0.1:43937</li>\n",
       "  <li><b>Dashboard: </b><a href='http://127.0.0.1:8888/status' target='_blank'>http://127.0.0.1:8888/status</a>\n",
       "</ul>\n",
       "</td>\n",
       "<td style=\"vertical-align: top; border: 0px solid white\">\n",
       "<h3 style=\"text-align: left;\">Cluster</h3>\n",
       "<ul style=\"text-align: left; list-style:none; margin: 0; padding: 0;\">\n",
       "  <li><b>Workers: </b>2</li>\n",
       "  <li><b>Cores: </b>4</li>\n",
       "  <li><b>Memory: </b>35.01 GB</li>\n",
       "</ul>\n",
       "</td>\n",
       "</tr>\n",
       "</table>"
      ],
      "text/plain": [
       "<Client: 'tcp://127.0.0.1:43937' processes=2 threads=4, memory=35.01 GB>"
      ]
     },
     "execution_count": 1,
     "metadata": {},
     "output_type": "execute_result"
    }
   ],
   "source": [
    "import dask\n",
    "import dask.threaded\n",
    "import dask.multiprocessing\n",
    "from dask.distributed import Client, LocalCluster\n",
    "\n",
    "cluster = LocalCluster(n_workers=2, threads_per_worker=2,dashboard_address=':8888')\n",
    "\n",
    "client = Client(cluster)\n",
    "client"
   ]
  },
  {
   "cell_type": "code",
   "execution_count": 2,
   "metadata": {},
   "outputs": [],
   "source": [
    "## Path for modules\n",
    "\n",
    "import sys\n",
    "\n",
    "import numpy as np\n",
    "import xarray as xr\n",
    "\n",
    "from netCDF4 import Dataset\n",
    "\n",
    "sys.path.insert(0,\"/mnt/meom/workdir/henelle/Notebooks/git/xscale\")\n",
    "import xscale\n",
    "import xscale.spectral.fft as xfft\n",
    "\n",
    "import cartopy.crs as ccrs\n",
    "import cartopy.feature as cfeature\n",
    "from cartopy.mpl.gridliner import LONGITUDE_FORMATTER, LATITUDE_FORMATTER\n",
    "\n",
    "import numpy.ma as ma\n",
    "\n",
    "import matplotlib.cm as mplcm\n",
    "import matplotlib.colors as colors\n",
    "from matplotlib import gridspec\n",
    "from mpl_toolkits.axes_grid1 import make_axes_locatable\n",
    "\n",
    "import matplotlib.pyplot as plt\n",
    "import matplotlib as mpl\n",
    "from datetime import date, datetime\n",
    "from xhistogram.xarray import histogram\n",
    "\n",
    "import pandas as pd\n",
    "\n",
    "import seaborn as sns\n",
    "sns.set(color_codes=True)\n",
    "\n",
    "%matplotlib inline"
   ]
  },
  {
   "cell_type": "markdown",
   "metadata": {},
   "source": [
    "### Modified fct\n",
    "\n",
    "def plot_histo_space(chunkx,chunky,curlT0,curl00,strainT0,strain00,navlon,navlat):\n",
    "    \n",
    "    box=(-31,-28,33,36)\n",
    "    domain=(box[0]<navlon)*(navlon<box[1])*(box[2]<navlat)*(navlat<box[3])\n",
    "    where=np.where(domain)\n",
    "\n",
    "    jmin = where[0][0]\n",
    "    jmax = where[0][-1]\n",
    "    imin = where[1][0]\n",
    "    imax = where[1][-1]\n",
    "\n",
    "    strainT0_filtbox = strainT0_filt[:,jmin:jmax+1,imin:imax+1]\n",
    "    strain00_filtbox = strain00_filt[:,jmin:jmax+1,imin:imax+1]\n",
    "    curlT0_filtbox = curlT0_filt[:,jmin:jmax+1,imin:imax+1]\n",
    "    curl00_filtbox = curl00_filt[:,jmin:jmax+1,imin:imax+1]\n",
    "\n",
    "    sbins = np.arange(0.0,0.5, 0.025)\n",
    "    cbins = np.arange(-0.5,0.5, 0.025)\n",
    "\n",
    "    hist_JAS_strain00_filtbox = histogram(strain00_filtbox,bins=[sbins])\n",
    "    hist_JAS_strainT0_filtbox = histogram(strainT0_filtbox,bins=[sbins])\n",
    "    hist_JAS_curl00_filtbox   = histogram(curl00_filtbox,bins=[cbins])\n",
    "    hist_JAS_curlT0_filtbox   = histogram(curlT0_filtbox,bins=[cbins])\n",
    "\n",
    "    log_hist_JAS_strain00 = np.log10(hist_JAS_strain00_filtbox)\n",
    "    log_hist_JAS_strainT0 = np.log10(hist_JAS_strainT0_filtbox)\n",
    "    log_hist_JAS_curl00   = np.log10(hist_JAS_curl00_filtbox)\n",
    "    log_hist_JAS_curlT0   = np.log10(hist_JAS_curlT0_filtbox)\n",
    "\n",
    "    ### Add weights ###\n",
    "\n",
    "    fig = plt.figure(figsize=(14,20))\n",
    "    gs = gridspec.GridSpec(nrows=1, ncols=2, height_ratios=[2]) \n",
    "    \n",
    "    ax1 = fig.add_subplot(gs[0, 0])\n",
    "    ax2 = fig.add_subplot(gs[0, 1])\n",
    "   \n",
    "  \n",
    "    # Adding histograms\n",
    "    log_hist_JAS_strain00.plot(ax=ax1,label='no tide',lw=3.0,color='lightseagreen')\n",
    "    log_hist_JAS_strainT0.plot(ax=ax1,label='tide',lw=3.0,linestyle='-.',color='darkred')\n",
    "    ax1.set_xlabel('24h filtered '+'curl/f',size=16)\n",
    "    ax1.set_ylabel('')\n",
    "    ax1.tick_params(labelsize=15)\n",
    "\n",
    "    log_hist_JAS_curl00.plot(ax=ax2,label='no tide',lw=3.0,color='lightseagreen')\n",
    "    log_hist_JAS_curlT0.plot(ax=ax2,label='tide',lw=3.0,linestyle='-.',color='darkred')\n",
    "    ax2.set_xlabel('24h filtered '+'strain/f',size=16)\n",
    "    ax2.set_ylabel('')\n",
    "    ax2.tick_params(labelsize=15)\n",
    "    \n",
    "    # Designing legend\n",
    "    plt.draw()\n",
    "    handles, labels = ax1.get_legend_handles_labels()\n",
    "    fig.legend(handles, labels, loc='center',frameon=True,shadow=True,fontsize=16,bbox_to_anchor=(0.5, 0.07, 0.5, 0.5),\n",
    "               markerscale=5.0,framealpha=0.8,edgecolor='black',facecolor='white')\n",
    "    \n",
    "\n",
    "    ax1.set_xlim((-0.5,0.5))\n",
    "    ax2.set_xlim((0,0.5))"
   ]
  },
  {
   "cell_type": "markdown",
   "metadata": {},
   "source": [
    "def plot_surf(data1,data2,vmin,vmax,var_title_data1,var_title_data2,cmap,extend):\n",
    "    fig = plt.figure(figsize=(14,20))\n",
    "    gs = gridspec.GridSpec(nrows=1, ncols=2, height_ratios=[2]) \n",
    "    \n",
    "    \n",
    "    ax1 = fig.add_subplot(gs[0, 0],projection=ccrs.PlateCarree())#221\n",
    "    ax2 = fig.add_subplot(gs[0, 1],projection=ccrs.PlateCarree())#222\n",
    "    \n",
    "    # Adjust subplots\n",
    "    plt.subplots_adjust(hspace=0.0,wspace=0.1)\n",
    "    \n",
    "    norm_fld_data1 = colors.Normalize(vmin=vmin, vmax=vmax, clip=False)\n",
    "    \n",
    "    pcolor1 = ax1.pcolormesh(lon,lat,data1,cmap=cmap,vmin=vmin,vmax=vmax,norm = norm_fld_data1)\n",
    "    pcolor2 = ax2.pcolormesh(lon,lat,data2,cmap=cmap,vmin=vmin,vmax=vmax,norm = norm_fld_data1)\n",
    "    \n",
    "    # Add the Azores\n",
    "    land = cfeature.GSHHSFeature(scale='intermediate',\n",
    "                                 levels=[1],\n",
    "                                 facecolor='dimgray')\n",
    "    ax1.add_feature(land)\n",
    "    ax2.add_feature(land)\n",
    "    \n",
    "    \n",
    "    # Colorbar ax1\n",
    "    cax1,kw1   = mpl.colorbar.make_axes(ax1,location='bottom',pad=0.05,shrink=0.95)\n",
    "    out1       = fig.colorbar(pcolor1,cax=cax1,extend=extend,**kw1)\n",
    "    out1.set_label(var_title_data1,size=16)\n",
    "    out1.ax.tick_params(labelsize=16)\n",
    "    xticks_ax1 = np.linspace(vmin,vmax,num=5)\n",
    "    out1.set_ticks(xticks_ax1)\n",
    "    \n",
    "    # Colorbar ax2\n",
    "    cax2,kw2   = mpl.colorbar.make_axes(ax2,location='bottom',pad=0.05,shrink=0.95)\n",
    "    out2       = fig.colorbar(pcolor1,cax=cax2,extend=extend,**kw2)\n",
    "    out2.set_label(var_title_data2,size=16)\n",
    "    out2.ax.tick_params(labelsize=16)\n",
    "    xticks_ax2 = np.linspace(vmin,vmax,num=5)\n",
    "    out2.set_ticks(xticks_ax2)\n",
    "    \n",
    "    # Grid    \n",
    "    gl1            = ax1.gridlines(crs=ccrs.PlateCarree(),draw_labels=True,lw=1,color='gray',alpha=0.8, ls='--')\n",
    "    gl1.xformatter = LONGITUDE_FORMATTER\n",
    "    gl1.yformatter = LATITUDE_FORMATTER\n",
    "    gl1.xlabel_style = {'size': 13, 'color': 'dimgray'}\n",
    "    gl1.ylabel_style = {'size': 13, 'color': 'dimgray'}\n",
    "    gl1.xlabels_top = False\n",
    "    gl1.ylabels_right = False\n",
    "    gl2            = ax2.gridlines(crs=ccrs.PlateCarree(),draw_labels=True,lw=1,color='gray',alpha=0.8, ls='--')\n",
    "    gl2.xformatter = LONGITUDE_FORMATTER\n",
    "    gl2.yformatter = LATITUDE_FORMATTER\n",
    "    gl2.xlabel_style = {'size': 13, 'color': 'dimgray'}\n",
    "    gl2.ylabel_style = {'size': 13, 'color': 'dimgray'}\n",
    "    gl2.xlabels_top = False\n",
    "    gl2.ylabels_right = False\n",
    "    gl2.ylabels_left = False\n",
    "    \n",
    "    # Adjusting axes\n",
    "    ax1.set_xlim((-36, -26))\n",
    "    ax1.set_ylim((25, 40))\n",
    "    ax2.set_xlim((-36, -26))\n",
    "    ax2.set_ylim((25, 40))"
   ]
  },
  {
   "cell_type": "code",
   "execution_count": 3,
   "metadata": {},
   "outputs": [],
   "source": [
    "def curl(u,v,e1v,e2u,ff):\n",
    "    '''\n",
    "    This routine computes the relative vorticity from 2D fields of horizontal velocities and the spatial Coriolis parameter.\n",
    "    '''\n",
    "    #Computation of dy(u)\n",
    "    fe2u=1/e2u\n",
    "    fse2u=fe2u.squeeze()\n",
    "    dyu=(u.shift(y=-1) - u)*fse2u\n",
    "    #Computation of dx(v)\n",
    "    fe1v=1/e1v\n",
    "    fse1v=fe1v.squeeze()\n",
    "    dxv=(v.shift(x=-1) - v)*fse1v\n",
    "    #Projection on the grid T\n",
    "    dxvt=0.5*(dxv.shift(y=-1)+dxv)\n",
    "    dyut=0.5*(dyu.shift(x=-1)+dyu)\n",
    "    #Computation of the vorticity divided by f\n",
    "    fff=1/ff\n",
    "    curl=(dxvt-dyut)*fff\n",
    "    return curl"
   ]
  },
  {
   "cell_type": "code",
   "execution_count": 4,
   "metadata": {},
   "outputs": [],
   "source": [
    "def strain(u,v,e1u,e1v,e2u,e2v,ff):\n",
    "    '''\n",
    "    This routine computes the relative vorticity from 2D fields of horizontal velocities and the spatial Coriolis parameter.\n",
    "    '''\n",
    "    #Computation of dy(u)\n",
    "    fe2u=1/e2u\n",
    "    fse2u=fe2u.squeeze()\n",
    "    dyu=(u.shift(y=-1) - u)*fse2u\n",
    "    #Computation of dx(v)\n",
    "    fe1v=1/e1v\n",
    "    fse1v=fe1v.squeeze()\n",
    "    dxv=(v.shift(x=-1) - v)*fse1v\n",
    "    #Computation of dy(v)\n",
    "    fe2v=1/e2v\n",
    "    fse2v=fe2v.squeeze()\n",
    "    dyv=(v.shift(y=-1) - v)*fse2v\n",
    "    #Computation of dx(u)\n",
    "    fe1u=1/e1u\n",
    "    fse1u=fe1u.squeeze()\n",
    "    dxu=(u.shift(x=-1) - u)*fse1u\n",
    "    #Projection on the grid T\n",
    "    dxvt=0.5*(dxv.shift(y=-1)+dxv)\n",
    "    dyut=0.5*(dyu.shift(x=-1)+dyu)\n",
    "    dxut=0.5*(dxu.shift(x=-1)+dxu)\n",
    "    dyvt=0.5*(dyv.shift(y=-1)+dyv)\n",
    "    #Computation of the strain divided by f\n",
    "    fff=1/ff\n",
    "    strain=np.sqrt( (dyut+dxvt)*(dyut+dxvt) + (dxut-dyvt)*(dxut-dyvt) ) *fff\n",
    "    return strain"
   ]
  },
  {
   "cell_type": "code",
   "execution_count": 5,
   "metadata": {},
   "outputs": [
    {
     "name": "stdout",
     "output_type": "stream",
     "text": [
      "(2208, 1, 1191, 781)\n"
     ]
    }
   ],
   "source": [
    "## Dataset : grid files and one example of U and V for test\n",
    "\n",
    "\n",
    "# Opening grid files\n",
    "\n",
    "dirgrid='/mnt/meom/workdir/alberta/eNATL60/eNATL60-I/'\n",
    "gridfile=dirgrid+'mesh_hgr_eNATL60ACO_3.6.nc'\n",
    "dsgrid=xr.open_dataset(gridfile,chunks={'x':200,'y':200})\n",
    "\n",
    "e1u=dsgrid.e1u\n",
    "e1v=dsgrid.e1v\n",
    "e2u=dsgrid.e2u\n",
    "e2v=dsgrid.e2v\n",
    "ff=dsgrid.ff\n",
    "\n",
    "\n",
    "\n",
    "# Opening u & v grid files\n",
    "# With tide\n",
    "\n",
    "dirvarT0='/mnt/meom/workdir/alberta/eNATL60/eNATL60-BLBT02-S/1h/ACO/'\n",
    "ufileT0=dirvarT0+'eNATL60ACO-BLBT02_y2009m*.1h_vozocrtx10m.nc' # JAS\n",
    "vfileT0=dirvarT0+'eNATL60ACO-BLBT02_y2009m*.1h_vomecrty10m.nc' # JAS\n",
    "#ufileT0=dirvarT0+'eNATL60ACO-BLBT02_y2009m07d07.1h_vozocrtx10m.nc'\n",
    "#vfileT0=dirvarT0+'eNATL60ACO-BLBT02_y2009m07d07.1h_vomecrty10m.nc'\n",
    "dsuT0=xr.open_mfdataset(ufileT0,combine='by_coords',parallel=True,chunks={'x':200,'y':200})\n",
    "dsvT0=xr.open_mfdataset(vfileT0,combine='by_coords',parallel=True,chunks={'x':200,'y':200})\n",
    "#dsuT0=xr.open_dataset(ufileT0,chunks={'x':200,'y':200})\n",
    "#dsvT0=xr.open_dataset(vfileT0,chunks={'x':200,'y':200})\n",
    "uT0=dsuT0.vozocrtx\n",
    "vT0=dsvT0.vomecrty # [0] innan; changer\n",
    "lon=dsuT0.nav_lon\n",
    "lat=dsuT0.nav_lat\n",
    "print(uT0.shape)\n",
    "\n",
    "# Without tide\n",
    "\n",
    "dirvar00='/mnt/meom/workdir/alberta/eNATL60/eNATL60-BLB002-S/1h/ACO/'\n",
    "ufile00=dirvar00+'eNATL60ACO-BLB002_y2009m*.1h_vozocrtx10m.nc' # JAS\n",
    "vfile00=dirvar00+'eNATL60ACO-BLB002_y2009m*.1h_vomecrty10m.nc' # JAS\n",
    "#ufile00=dirvar00+'eNATL60ACO-BLB002_y2009m07d07.1h_vozocrtx10m.nc'\n",
    "#vfile00=dirvar00+'eNATL60ACO-BLB002_y2009m07d07.1h_vomecrty10m.nc'\n",
    "dsu00=xr.open_mfdataset(ufile00,combine='by_coords',parallel=True,chunks={'x':200,'y':200})\n",
    "dsv00=xr.open_mfdataset(vfile00,combine='by_coords',parallel=True,chunks={'x':200,'y':200})\n",
    "#dsu00=xr.open_dataset(ufile00,chunks={'x':200,'y':200})\n",
    "#dsv00=xr.open_dataset(vfile00,chunks={'x':200,'y':200})\n",
    "u00=dsu00.vozocrtx\n",
    "v00=dsv00.vomecrty"
   ]
  },
  {
   "cell_type": "code",
   "execution_count": 6,
   "metadata": {},
   "outputs": [
    {
     "data": {
      "text/html": [
       "<pre>&lt;xarray.DataArray &#x27;vomecrty&#x27; (time_counter: 2208, y: 1191, x: 781)&gt;\n",
       "dask.array&lt;getitem, shape=(2208, 1191, 781), dtype=float32, chunksize=(24, 200, 200), chunktype=numpy.ndarray&gt;\n",
       "Coordinates:\n",
       "    nav_lat        (y, x) float32 dask.array&lt;chunksize=(200, 200), meta=np.ndarray&gt;\n",
       "    nav_lon        (y, x) float32 dask.array&lt;chunksize=(200, 200), meta=np.ndarray&gt;\n",
       "    depthv         float32 9.318418\n",
       "    time_centered  (time_counter) datetime64[ns] dask.array&lt;chunksize=(24,), meta=np.ndarray&gt;\n",
       "  * time_counter   (time_counter) datetime64[ns] 2009-07-01T00:30:00 ... 2009-09-30T23:30:00\n",
       "Dimensions without coordinates: y, x</pre>"
      ],
      "text/plain": [
       "<xarray.DataArray 'vomecrty' (time_counter: 2208, y: 1191, x: 781)>\n",
       "dask.array<getitem, shape=(2208, 1191, 781), dtype=float32, chunksize=(24, 200, 200), chunktype=numpy.ndarray>\n",
       "Coordinates:\n",
       "    nav_lat        (y, x) float32 dask.array<chunksize=(200, 200), meta=np.ndarray>\n",
       "    nav_lon        (y, x) float32 dask.array<chunksize=(200, 200), meta=np.ndarray>\n",
       "    depthv         float32 9.318418\n",
       "    time_centered  (time_counter) datetime64[ns] dask.array<chunksize=(24,), meta=np.ndarray>\n",
       "  * time_counter   (time_counter) datetime64[ns] 2009-07-01T00:30:00 ... 2009-09-30T23:30:00\n",
       "Dimensions without coordinates: y, x"
      ]
     },
     "execution_count": 6,
     "metadata": {},
     "output_type": "execute_result"
    }
   ],
   "source": [
    "# Filtering of u & v\n",
    "\n",
    "T=2*np.pi/(1E-4) # Coriolis period\n",
    "\n",
    "wuT0 = uT0.window\n",
    "wuT0.set(n=48,dim='time_counter', cutoff=2*T)\n",
    "uT0_filt = wuT0.convolve()\n",
    "\n",
    "wu00 = u00.window\n",
    "wu00.set(n=48,dim='time_counter', cutoff=2*T)\n",
    "u00_filt = wu00.convolve()\n",
    "\n",
    "wvT0 = vT0.window\n",
    "wvT0.set(n=48,dim='time_counter', cutoff=2*T)\n",
    "vT0_filt = wvT0.convolve()\n",
    "\n",
    "wv00 = v00.window\n",
    "wv00.set(n=48,dim='time_counter', cutoff=2*T)\n",
    "v00_filt = wv00.convolve()\n",
    "v00_filt.squeeze()"
   ]
  },
  {
   "cell_type": "code",
   "execution_count": 7,
   "metadata": {},
   "outputs": [
    {
     "data": {
      "text/html": [
       "<pre>&lt;xarray.DataArray (time_counter: 2208, y: 1191, x: 781)&gt;\n",
       "dask.array&lt;getitem, shape=(2208, 1191, 781), dtype=float64, chunksize=(24, 200, 200), chunktype=numpy.ndarray&gt;\n",
       "Coordinates:\n",
       "    depthu         float32 9.318418\n",
       "    time_centered  (time_counter) datetime64[ns] 2009-07-01T00:30:00 ... 2009-09-30T23:30:00\n",
       "  * time_counter   (time_counter) datetime64[ns] 2009-07-01T00:30:00 ... 2009-09-30T23:30:00\n",
       "    depthv         float32 9.318418\n",
       "Dimensions without coordinates: y, x</pre>"
      ],
      "text/plain": [
       "<xarray.DataArray (time_counter: 2208, y: 1191, x: 781)>\n",
       "dask.array<getitem, shape=(2208, 1191, 781), dtype=float64, chunksize=(24, 200, 200), chunktype=numpy.ndarray>\n",
       "Coordinates:\n",
       "    depthu         float32 9.318418\n",
       "    time_centered  (time_counter) datetime64[ns] 2009-07-01T00:30:00 ... 2009-09-30T23:30:00\n",
       "  * time_counter   (time_counter) datetime64[ns] 2009-07-01T00:30:00 ... 2009-09-30T23:30:00\n",
       "    depthv         float32 9.318418\n",
       "Dimensions without coordinates: y, x"
      ]
     },
     "execution_count": 7,
     "metadata": {},
     "output_type": "execute_result"
    }
   ],
   "source": [
    "### Compute curl and strain with python\n",
    "\n",
    "curlT0_filt   = curl(uT0_filt,vT0_filt,e1v,e2u,ff)\n",
    "curl00_filt   = curl(u00_filt,v00_filt,e1v,e2u,ff)\n",
    "strainT0_filt = strain(uT0_filt,vT0_filt,e1u,e1v,e2u,e2v,ff)\n",
    "strain00_filt = strain(u00_filt,v00_filt,e1u,e1v,e2u,e2v,ff)\n",
    "strain00_filt.squeeze()"
   ]
  },
  {
   "cell_type": "code",
   "execution_count": 8,
   "metadata": {},
   "outputs": [],
   "source": [
    "box=(-31,-28,33,36)\n",
    "domain=(box[0]<lon)*(lon<box[1])*(box[2]<lat)*(lat<box[3])\n",
    "where=np.where(domain)"
   ]
  },
  {
   "cell_type": "code",
   "execution_count": 9,
   "metadata": {},
   "outputs": [],
   "source": [
    "jmin = where[0][0]\n",
    "jmax = where[0][-1]\n",
    "imin = where[1][0]\n",
    "imax = where[1][-1]"
   ]
  },
  {
   "cell_type": "code",
   "execution_count": 10,
   "metadata": {},
   "outputs": [
    {
     "name": "stdout",
     "output_type": "stream",
     "text": [
      "384 563 668 883\n"
     ]
    }
   ],
   "source": [
    "print(imin,imax,jmin,jmax)"
   ]
  },
  {
   "cell_type": "code",
   "execution_count": 11,
   "metadata": {},
   "outputs": [],
   "source": [
    "strainT0_filtbox = strainT0_filt.squeeze()[:,jmin:jmax+1,imin:imax+1]\n",
    "strain00_filtbox = strain00_filt.squeeze()[:,jmin:jmax+1,imin:imax+1]\n",
    "curlT0_filtbox   = curlT0_filt.squeeze()[:,jmin:jmax+1,imin:imax+1]\n",
    "curl00_filtbox   = curl00_filt.squeeze()[:,jmin:jmax+1,imin:imax+1]"
   ]
  },
  {
   "cell_type": "code",
   "execution_count": 12,
   "metadata": {},
   "outputs": [],
   "source": [
    "#weights_curlT0_filt   = np.ones_like(curlT0_filtbox)/float(len(curlT0_filtbox))\n",
    "#weights_curl00_filt   = np.ones_like(curl00_filtbox)/float(len(curl00_filtbox))\n",
    "#weights_strainT0_filt = np.ones_like(strainT0_filtbox)/float(len(strainT0_filtbox))\n",
    "#weights_strain00_filt = np.ones_like(strain00_filtbox)/float(len(strain00_filtbox))"
   ]
  },
  {
   "cell_type": "code",
   "execution_count": 13,
   "metadata": {},
   "outputs": [],
   "source": [
    "sbins = np.arange(0.0,0.5, 0.025)\n",
    "cbins = np.arange(-0.5,0.5, 0.025)"
   ]
  },
  {
   "cell_type": "code",
   "execution_count": 15,
   "metadata": {},
   "outputs": [
    {
     "ename": "AssertionError",
     "evalue": "all arrays must have a name",
     "output_type": "error",
     "traceback": [
      "\u001b[0;31m---------------------------------------------------------------------------\u001b[0m",
      "\u001b[0;31mAssertionError\u001b[0m                            Traceback (most recent call last)",
      "\u001b[0;32m<ipython-input-15-870b8894312e>\u001b[0m in \u001b[0;36m<module>\u001b[0;34m\u001b[0m\n\u001b[1;32m      2\u001b[0m \u001b[0;34m\u001b[0m\u001b[0m\n\u001b[1;32m      3\u001b[0m \u001b[0mweights\u001b[0m \u001b[0;34m=\u001b[0m \u001b[0;36m0.4\u001b[0m \u001b[0;34m*\u001b[0m \u001b[0mxr\u001b[0m\u001b[0;34m.\u001b[0m\u001b[0mones_like\u001b[0m\u001b[0;34m(\u001b[0m\u001b[0mstrain00_filtbox\u001b[0m\u001b[0;34m)\u001b[0m\u001b[0;34m\u001b[0m\u001b[0;34m\u001b[0m\u001b[0m\n\u001b[0;32m----> 4\u001b[0;31m \u001b[0mhistogram\u001b[0m\u001b[0;34m(\u001b[0m\u001b[0mstrain00_filtbox\u001b[0m\u001b[0;34m,\u001b[0m \u001b[0mbins\u001b[0m\u001b[0;34m=\u001b[0m\u001b[0;34m[\u001b[0m\u001b[0msbins\u001b[0m\u001b[0;34m]\u001b[0m\u001b[0;34m,\u001b[0m \u001b[0mweights\u001b[0m\u001b[0;34m=\u001b[0m\u001b[0mweights\u001b[0m\u001b[0;34m)\u001b[0m\u001b[0;34m\u001b[0m\u001b[0;34m\u001b[0m\u001b[0m\n\u001b[0m",
      "\u001b[0;32m/mnt/meom/workdir/henelle/.Anaconda3/envs/erh1/lib/python3.8/site-packages/xhistogram/xarray.py\u001b[0m in \u001b[0;36mhistogram\u001b[0;34m(bins, dim, weights, density, block_size, bin_dim_suffix, bin_edge_suffix, *args)\u001b[0m\n\u001b[1;32m     78\u001b[0m     \u001b[0;32mfor\u001b[0m \u001b[0ma\u001b[0m \u001b[0;32min\u001b[0m \u001b[0margs\u001b[0m\u001b[0;34m:\u001b[0m\u001b[0;34m\u001b[0m\u001b[0;34m\u001b[0m\u001b[0m\n\u001b[1;32m     79\u001b[0m         \u001b[0;31m# TODO: make this a more robust check\u001b[0m\u001b[0;34m\u001b[0m\u001b[0;34m\u001b[0m\u001b[0;34m\u001b[0m\u001b[0m\n\u001b[0;32m---> 80\u001b[0;31m         \u001b[0;32massert\u001b[0m \u001b[0ma\u001b[0m\u001b[0;34m.\u001b[0m\u001b[0mname\u001b[0m \u001b[0;32mis\u001b[0m \u001b[0;32mnot\u001b[0m \u001b[0;32mNone\u001b[0m\u001b[0;34m,\u001b[0m \u001b[0;34m'all arrays must have a name'\u001b[0m\u001b[0;34m\u001b[0m\u001b[0;34m\u001b[0m\u001b[0m\n\u001b[0m\u001b[1;32m     81\u001b[0m \u001b[0;34m\u001b[0m\u001b[0m\n\u001b[1;32m     82\u001b[0m     \u001b[0;31m# we drop coords to simplify alignment\u001b[0m\u001b[0;34m\u001b[0m\u001b[0;34m\u001b[0m\u001b[0;34m\u001b[0m\u001b[0m\n",
      "\u001b[0;31mAssertionError\u001b[0m: all arrays must have a name"
     ]
    }
   ],
   "source": [
    "# Test weights\n",
    "\n",
    "weights = 0.4 * xr.ones_like(strain00_filtbox) # 0.4?\n",
    "histogram(strain00_filtbox, bins=[sbins], weights=weights)"
   ]
  },
  {
   "cell_type": "code",
   "execution_count": 14,
   "metadata": {},
   "outputs": [
    {
     "ename": "AssertionError",
     "evalue": "all arrays must have a name",
     "output_type": "error",
     "traceback": [
      "\u001b[0;31m---------------------------------------------------------------------------\u001b[0m",
      "\u001b[0;31mAssertionError\u001b[0m                            Traceback (most recent call last)",
      "\u001b[0;32m<ipython-input-14-591c045a2c6b>\u001b[0m in \u001b[0;36m<module>\u001b[0;34m\u001b[0m\n\u001b[0;32m----> 1\u001b[0;31m \u001b[0mhist_JAS_strain00_filtbox\u001b[0m \u001b[0;34m=\u001b[0m \u001b[0mhistogram\u001b[0m\u001b[0;34m(\u001b[0m\u001b[0mstrain00_filtbox\u001b[0m\u001b[0;34m,\u001b[0m\u001b[0mbins\u001b[0m\u001b[0;34m=\u001b[0m\u001b[0;34m[\u001b[0m\u001b[0msbins\u001b[0m\u001b[0;34m]\u001b[0m\u001b[0;34m)\u001b[0m\u001b[0;34m\u001b[0m\u001b[0;34m\u001b[0m\u001b[0m\n\u001b[0m\u001b[1;32m      2\u001b[0m \u001b[0mhist_JAS_strainT0_filtbox\u001b[0m \u001b[0;34m=\u001b[0m \u001b[0mhistogram\u001b[0m\u001b[0;34m(\u001b[0m\u001b[0mstrainT0_filtbox\u001b[0m\u001b[0;34m,\u001b[0m\u001b[0mbins\u001b[0m\u001b[0;34m=\u001b[0m\u001b[0;34m[\u001b[0m\u001b[0msbins\u001b[0m\u001b[0;34m]\u001b[0m\u001b[0;34m)\u001b[0m\u001b[0;34m\u001b[0m\u001b[0;34m\u001b[0m\u001b[0m\n\u001b[1;32m      3\u001b[0m \u001b[0mhist_JAS_curl00_filtbox\u001b[0m   \u001b[0;34m=\u001b[0m \u001b[0mhistogram\u001b[0m\u001b[0;34m(\u001b[0m\u001b[0mcurl00_filtbox\u001b[0m\u001b[0;34m,\u001b[0m\u001b[0mbins\u001b[0m\u001b[0;34m=\u001b[0m\u001b[0;34m[\u001b[0m\u001b[0mcbins\u001b[0m\u001b[0;34m]\u001b[0m\u001b[0;34m)\u001b[0m\u001b[0;34m\u001b[0m\u001b[0;34m\u001b[0m\u001b[0m\n\u001b[1;32m      4\u001b[0m \u001b[0mhist_JAS_curlT0_filtbox\u001b[0m   \u001b[0;34m=\u001b[0m \u001b[0mhistogram\u001b[0m\u001b[0;34m(\u001b[0m\u001b[0mcurlT0_filtbox\u001b[0m\u001b[0;34m,\u001b[0m\u001b[0mbins\u001b[0m\u001b[0;34m=\u001b[0m\u001b[0;34m[\u001b[0m\u001b[0mcbins\u001b[0m\u001b[0;34m]\u001b[0m\u001b[0;34m)\u001b[0m\u001b[0;34m\u001b[0m\u001b[0;34m\u001b[0m\u001b[0m\n",
      "\u001b[0;32m/mnt/meom/workdir/henelle/.Anaconda3/envs/erh1/lib/python3.8/site-packages/xhistogram/xarray.py\u001b[0m in \u001b[0;36mhistogram\u001b[0;34m(bins, dim, weights, density, block_size, bin_dim_suffix, bin_edge_suffix, *args)\u001b[0m\n\u001b[1;32m     78\u001b[0m     \u001b[0;32mfor\u001b[0m \u001b[0ma\u001b[0m \u001b[0;32min\u001b[0m \u001b[0margs\u001b[0m\u001b[0;34m:\u001b[0m\u001b[0;34m\u001b[0m\u001b[0;34m\u001b[0m\u001b[0m\n\u001b[1;32m     79\u001b[0m         \u001b[0;31m# TODO: make this a more robust check\u001b[0m\u001b[0;34m\u001b[0m\u001b[0;34m\u001b[0m\u001b[0;34m\u001b[0m\u001b[0m\n\u001b[0;32m---> 80\u001b[0;31m         \u001b[0;32massert\u001b[0m \u001b[0ma\u001b[0m\u001b[0;34m.\u001b[0m\u001b[0mname\u001b[0m \u001b[0;32mis\u001b[0m \u001b[0;32mnot\u001b[0m \u001b[0;32mNone\u001b[0m\u001b[0;34m,\u001b[0m \u001b[0;34m'all arrays must have a name'\u001b[0m\u001b[0;34m\u001b[0m\u001b[0;34m\u001b[0m\u001b[0m\n\u001b[0m\u001b[1;32m     81\u001b[0m \u001b[0;34m\u001b[0m\u001b[0m\n\u001b[1;32m     82\u001b[0m     \u001b[0;31m# we drop coords to simplify alignment\u001b[0m\u001b[0;34m\u001b[0m\u001b[0;34m\u001b[0m\u001b[0;34m\u001b[0m\u001b[0m\n",
      "\u001b[0;31mAssertionError\u001b[0m: all arrays must have a name"
     ]
    }
   ],
   "source": [
    "hist_JAS_strain00_filtbox = histogram(strain00_filtbox,bins=[sbins])\n",
    "hist_JAS_strainT0_filtbox = histogram(strainT0_filtbox,bins=[sbins])\n",
    "hist_JAS_curl00_filtbox   = histogram(curl00_filtbox,bins=[cbins])\n",
    "hist_JAS_curlT0_filtbox   = histogram(curlT0_filtbox,bins=[cbins])"
   ]
  },
  {
   "cell_type": "code",
   "execution_count": null,
   "metadata": {},
   "outputs": [],
   "source": [
    "log_hist_JAS_strain00 = np.log10(hist_JAS_strain00_filtbox)\n",
    "log_hist_JAS_strainT0 = np.log10(hist_JAS_strainT0_filtbox)\n",
    "log_hist_JAS_curl00   = np.log10(hist_JAS_curl00_filtbox)\n",
    "log_hist_JAS_curlT0   = np.log10(hist_JAS_curlT0_filtbox)\n",
    "\n",
    "### Add weights ###"
   ]
  },
  {
   "cell_type": "code",
   "execution_count": null,
   "metadata": {},
   "outputs": [],
   "source": []
  },
  {
   "cell_type": "code",
   "execution_count": null,
   "metadata": {},
   "outputs": [],
   "source": []
  },
  {
   "cell_type": "code",
   "execution_count": null,
   "metadata": {},
   "outputs": [],
   "source": []
  },
  {
   "cell_type": "code",
   "execution_count": null,
   "metadata": {},
   "outputs": [],
   "source": []
  },
  {
   "cell_type": "code",
   "execution_count": null,
   "metadata": {},
   "outputs": [],
   "source": []
  },
  {
   "cell_type": "code",
   "execution_count": null,
   "metadata": {},
   "outputs": [],
   "source": []
  },
  {
   "cell_type": "code",
   "execution_count": null,
   "metadata": {},
   "outputs": [],
   "source": []
  },
  {
   "cell_type": "code",
   "execution_count": null,
   "metadata": {},
   "outputs": [],
   "source": [
    "#plot_surf(strain_python.squeeze(),strain_python.squeeze(),0,0.5,'strain computed with python','same','YlGn',\n",
    "#         'max')"
   ]
  },
  {
   "cell_type": "code",
   "execution_count": null,
   "metadata": {},
   "outputs": [],
   "source": [
    "#%time\n",
    "#plot_histo_space(100,100,curlT0.squeeze(),curl00.squeeze(),strainT0.squeeze(),strain00.squeeze(),lon,lat)"
   ]
  },
  {
   "cell_type": "code",
   "execution_count": null,
   "metadata": {},
   "outputs": [],
   "source": []
  },
  {
   "cell_type": "code",
   "execution_count": null,
   "metadata": {},
   "outputs": [],
   "source": []
  },
  {
   "cell_type": "code",
   "execution_count": null,
   "metadata": {},
   "outputs": [],
   "source": []
  },
  {
   "cell_type": "code",
   "execution_count": null,
   "metadata": {},
   "outputs": [],
   "source": []
  },
  {
   "cell_type": "code",
   "execution_count": null,
   "metadata": {},
   "outputs": [],
   "source": []
  }
 ],
 "metadata": {
  "kernelspec": {
   "display_name": "Python 3",
   "language": "python",
   "name": "python3"
  },
  "language_info": {
   "codemirror_mode": {
    "name": "ipython",
    "version": 3
   },
   "file_extension": ".py",
   "mimetype": "text/x-python",
   "name": "python",
   "nbconvert_exporter": "python",
   "pygments_lexer": "ipython3",
   "version": "3.8.1"
  }
 },
 "nbformat": 4,
 "nbformat_minor": 4
}
