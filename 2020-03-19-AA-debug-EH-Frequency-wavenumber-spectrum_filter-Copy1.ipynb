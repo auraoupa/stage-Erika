{
 "cells": [
  {
   "cell_type": "code",
   "execution_count": 1,
   "metadata": {},
   "outputs": [],
   "source": [
    "## Path for modules\n",
    "\n",
    "import cartopy\n",
    "\n",
    "import xarray as xr\n",
    "import sys\n",
    "\n",
    "import numpy as np\n",
    "sys.path.insert(0,\"/mnt/meom/workdir/henelle/Notebooks/git/xscale\")\n",
    "import xscale\n",
    "import xscale.spectral.fft as xfft\n",
    "from matplotlib.colors import LogNorm\n",
    "import matplotlib.pylab as plt\n",
    "\n",
    "import cartopy.crs as ccrs\n",
    "import cartopy.feature as cfeature\n",
    "from cartopy.mpl.gridliner import LONGITUDE_FORMATTER, LATITUDE_FORMATTER\n",
    "\n",
    "sys.path.insert(0,\"/mnt/meom/workdir/henelle/Notebooks/git/powerspectrums\")\n",
    "import Wavenum_freq_spec_func as wfs\n"
   ]
  },
  {
   "cell_type": "code",
   "execution_count": 2,
   "metadata": {},
   "outputs": [
    {
     "data": {
      "text/html": [
       "<table style=\"border: 2px solid white;\">\n",
       "<tr>\n",
       "<td style=\"vertical-align: top; border: 0px solid white\">\n",
       "<h3 style=\"text-align: left;\">Client</h3>\n",
       "<ul style=\"text-align: left; list-style: none; margin: 0; padding: 0;\">\n",
       "  <li><b>Scheduler: </b>tcp://127.0.0.1:38789</li>\n",
       "  <li><b>Dashboard: </b><a href='http://127.0.0.1:8787/status' target='_blank'>http://127.0.0.1:8787/status</a>\n",
       "</ul>\n",
       "</td>\n",
       "<td style=\"vertical-align: top; border: 0px solid white\">\n",
       "<h3 style=\"text-align: left;\">Cluster</h3>\n",
       "<ul style=\"text-align: left; list-style:none; margin: 0; padding: 0;\">\n",
       "  <li><b>Workers: </b>2</li>\n",
       "  <li><b>Cores: </b>4</li>\n",
       "  <li><b>Memory: </b>35.01 GB</li>\n",
       "</ul>\n",
       "</td>\n",
       "</tr>\n",
       "</table>"
      ],
      "text/plain": [
       "<Client: 'tcp://127.0.0.1:38789' processes=2 threads=4, memory=35.01 GB>"
      ]
     },
     "execution_count": 2,
     "metadata": {},
     "output_type": "execute_result"
    }
   ],
   "source": [
    "import dask\n",
    "import dask.threaded\n",
    "import dask.multiprocessing\n",
    "from dask.distributed import Client, LocalCluster\n",
    "\n",
    "cluster = LocalCluster(n_workers=2, threads_per_worker=2)\n",
    "\n",
    "client = Client(cluster)\n",
    "client"
   ]
  },
  {
   "cell_type": "markdown",
   "metadata": {},
   "source": [
    "## Dataset\n",
    "### Format netcdf"
   ]
  },
  {
   "cell_type": "code",
   "execution_count": 3,
   "metadata": {},
   "outputs": [],
   "source": [
    "data_dirT0 = '/mnt/meom/workdir/henelle/eNATL60/eNATL60-BLBT02-S/1h/ACO/'\n",
    "data_dir00 = '/mnt/meom/workdir/henelle/eNATL60/eNATL60-BLB002-S/1h/ACO/'\n",
    "dirfilt    = \"/mnt/meom/workdir/henelle/eNATL60/JFM-JAS/\""
   ]
  },
  {
   "cell_type": "code",
   "execution_count": 4,
   "metadata": {},
   "outputs": [],
   "source": [
    "# No tide\n",
    "tfilename_strain00 = data_dir00 + 'eNATL60ACO-BLB002_y*.1h_strain10m.nc'\n",
    "tfilename_curl00   = data_dir00 + 'eNATL60ACO-BLB002_y*.1h_curl10m.nc'"
   ]
  },
  {
   "cell_type": "code",
   "execution_count": 5,
   "metadata": {},
   "outputs": [],
   "source": [
    "# Tide\n",
    "tfilename_strainT0 = data_dirT0 + 'eNATL60ACO-BLBT02_y*.1h_strain10m.nc'\n",
    "tfilename_curlT0   = data_dirT0 + 'eNATL60ACO-BLBT02_y*.1h_curl10m.nc'"
   ]
  },
  {
   "cell_type": "code",
   "execution_count": 6,
   "metadata": {},
   "outputs": [],
   "source": [
    "strain00 = xr.open_mfdataset(tfilename_strain00,combine='by_coords',chunks={'x':500,'y':500})['sostrainoverf'][:]\n",
    "curl00   = xr.open_mfdataset(tfilename_curl00,combine='by_coords',chunks={'x':500,'y':500})['socurloverf'][:]"
   ]
  },
  {
   "cell_type": "code",
   "execution_count": 7,
   "metadata": {},
   "outputs": [
    {
     "data": {
      "text/html": [
       "<pre>&lt;xarray.DataArray &#x27;sostrainoverf&#x27; (time_counter: 4368, y: 1191, x: 781)&gt;\n",
       "dask.array&lt;concatenate, shape=(4368, 1191, 781), dtype=float32, chunksize=(24, 500, 500), chunktype=numpy.ndarray&gt;\n",
       "Coordinates:\n",
       "  * time_counter  (time_counter) datetime64[ns] 2009-07-01T00:30:00 ... 2010-03-31T23:30:00\n",
       "Dimensions without coordinates: y, x\n",
       "Attributes:\n",
       "    units:             -\n",
       "    valid_min:         -1000.0\n",
       "    valid_max:         1000.0\n",
       "    long_name:         Relative_Vorticity (strain)\n",
       "    short_name:        sostrain\n",
       "    iweight:           1\n",
       "    online_operation:  N/A\n",
       "    axis:              TYX\n",
       "    savelog10:         0.0</pre>"
      ],
      "text/plain": [
       "<xarray.DataArray 'sostrainoverf' (time_counter: 4368, y: 1191, x: 781)>\n",
       "dask.array<concatenate, shape=(4368, 1191, 781), dtype=float32, chunksize=(24, 500, 500), chunktype=numpy.ndarray>\n",
       "Coordinates:\n",
       "  * time_counter  (time_counter) datetime64[ns] 2009-07-01T00:30:00 ... 2010-03-31T23:30:00\n",
       "Dimensions without coordinates: y, x\n",
       "Attributes:\n",
       "    units:             -\n",
       "    valid_min:         -1000.0\n",
       "    valid_max:         1000.0\n",
       "    long_name:         Relative_Vorticity (strain)\n",
       "    short_name:        sostrain\n",
       "    iweight:           1\n",
       "    online_operation:  N/A\n",
       "    axis:              TYX\n",
       "    savelog10:         0.0"
      ]
     },
     "execution_count": 7,
     "metadata": {},
     "output_type": "execute_result"
    }
   ],
   "source": [
    "strainT0 = xr.open_mfdataset(tfilename_strainT0,combine='by_coords',chunks={'x':500,'y':500})['sostrainoverf'][:]\n",
    "curlT0   = xr.open_mfdataset(tfilename_curlT0,combine='by_coords',chunks={'x':500,'y':500})['socurloverf'][:]\n",
    "strainT0"
   ]
  },
  {
   "cell_type": "code",
   "execution_count": 8,
   "metadata": {},
   "outputs": [],
   "source": [
    "# Gives Memory Error when executing [14]\n",
    "navlat = xr.open_mfdataset(tfilename_strain00,combine='by_coords',chunks={'x':500,'y':500})['nav_lat']\n",
    "navlon = xr.open_mfdataset(tfilename_strain00,combine='by_coords',chunks={'x':500,'y':500})['nav_lon']"
   ]
  },
  {
   "cell_type": "code",
   "execution_count": null,
   "metadata": {},
   "outputs": [],
   "source": [
    "# Occasional Memory Error when executing [14] as well \n",
    "\n",
    "#tfile = dirfilt + 'eNATL60ACO-BLB002_y2009_JAS.1d_strain_after_mean10m.nc'\n",
    "#navlat = xr.open_dataset(tfile)['nav_lat']\n",
    "#navlon = xr.open_dataset(tfile)['nav_lon']"
   ]
  },
  {
   "cell_type": "code",
   "execution_count": 9,
   "metadata": {},
   "outputs": [],
   "source": [
    "T=2*np.pi/(1E-4)"
   ]
  },
  {
   "cell_type": "code",
   "execution_count": 10,
   "metadata": {},
   "outputs": [
    {
     "data": {
      "text/html": [
       "<pre>&lt;xarray.DataArray &#x27;sostrainoverf&#x27; (time_counter: 4368, y: 1191, x: 781)&gt;\n",
       "dask.array&lt;concatenate, shape=(4368, 1191, 781), dtype=float32, chunksize=(24, 500, 500), chunktype=numpy.ndarray&gt;\n",
       "Coordinates:\n",
       "  * time_counter  (time_counter) datetime64[ns] 2009-07-01T00:30:00 ... 2010-03-31T23:30:00\n",
       "Dimensions without coordinates: y, x\n",
       "Attributes:\n",
       "    units:             -\n",
       "    valid_min:         -1000.0\n",
       "    valid_max:         1000.0\n",
       "    long_name:         Relative_Vorticity (strain)\n",
       "    short_name:        sostrain\n",
       "    iweight:           1\n",
       "    online_operation:  N/A\n",
       "    axis:              TYX\n",
       "    savelog10:         0.0</pre>"
      ],
      "text/plain": [
       "<xarray.DataArray 'sostrainoverf' (time_counter: 4368, y: 1191, x: 781)>\n",
       "dask.array<concatenate, shape=(4368, 1191, 781), dtype=float32, chunksize=(24, 500, 500), chunktype=numpy.ndarray>\n",
       "Coordinates:\n",
       "  * time_counter  (time_counter) datetime64[ns] 2009-07-01T00:30:00 ... 2010-03-31T23:30:00\n",
       "Dimensions without coordinates: y, x\n",
       "Attributes:\n",
       "    units:             -\n",
       "    valid_min:         -1000.0\n",
       "    valid_max:         1000.0\n",
       "    long_name:         Relative_Vorticity (strain)\n",
       "    short_name:        sostrain\n",
       "    iweight:           1\n",
       "    online_operation:  N/A\n",
       "    axis:              TYX\n",
       "    savelog10:         0.0"
      ]
     },
     "execution_count": 10,
     "metadata": {},
     "output_type": "execute_result"
    }
   ],
   "source": [
    "strainT0"
   ]
  },
  {
   "cell_type": "code",
   "execution_count": 11,
   "metadata": {},
   "outputs": [
    {
     "data": {
      "text/html": [
       "<pre>&lt;xarray.DataArray &#x27;sostrainoverf&#x27; (time_counter: 4368, y: 1191, x: 781)&gt;\n",
       "dask.array&lt;mul, shape=(4368, 1191, 781), dtype=float32, chunksize=(24, 500, 500), chunktype=numpy.ndarray&gt;\n",
       "Coordinates:\n",
       "  * time_counter  (time_counter) datetime64[ns] 2009-07-01T00:30:00 ... 2010-03-31T23:30:00\n",
       "Dimensions without coordinates: y, x</pre>"
      ],
      "text/plain": [
       "<xarray.DataArray 'sostrainoverf' (time_counter: 4368, y: 1191, x: 781)>\n",
       "dask.array<mul, shape=(4368, 1191, 781), dtype=float32, chunksize=(24, 500, 500), chunktype=numpy.ndarray>\n",
       "Coordinates:\n",
       "  * time_counter  (time_counter) datetime64[ns] 2009-07-01T00:30:00 ... 2010-03-31T23:30:00\n",
       "Dimensions without coordinates: y, x"
      ]
     },
     "execution_count": 11,
     "metadata": {},
     "output_type": "execute_result"
    }
   ],
   "source": [
    "wstrainT0 = strainT0.window\n",
    "wstrainT0.set(n=48,dim='time_counter', cutoff=T)\n",
    "strainT0_filt = wstrainT0.convolve()\n",
    "strainT0_filt"
   ]
  },
  {
   "cell_type": "code",
   "execution_count": 12,
   "metadata": {},
   "outputs": [
    {
     "data": {
      "text/html": [
       "<pre>&lt;xarray.DataArray &#x27;sostrainoverf&#x27; (time_counter: 4368, y: 1191, x: 781)&gt;\n",
       "dask.array&lt;mul, shape=(4368, 1191, 781), dtype=float32, chunksize=(24, 500, 500), chunktype=numpy.ndarray&gt;\n",
       "Coordinates:\n",
       "  * time_counter  (time_counter) datetime64[ns] 2009-07-01T00:30:00 ... 2010-03-31T23:30:00\n",
       "Dimensions without coordinates: y, x</pre>"
      ],
      "text/plain": [
       "<xarray.DataArray 'sostrainoverf' (time_counter: 4368, y: 1191, x: 781)>\n",
       "dask.array<mul, shape=(4368, 1191, 781), dtype=float32, chunksize=(24, 500, 500), chunktype=numpy.ndarray>\n",
       "Coordinates:\n",
       "  * time_counter  (time_counter) datetime64[ns] 2009-07-01T00:30:00 ... 2010-03-31T23:30:00\n",
       "Dimensions without coordinates: y, x"
      ]
     },
     "execution_count": 12,
     "metadata": {},
     "output_type": "execute_result"
    }
   ],
   "source": [
    "wstrain00 = strain00.window\n",
    "wstrain00.set(n=48,dim='time_counter', cutoff=T)\n",
    "strain00_filt = wstrain00.convolve()\n",
    "strain00_filt"
   ]
  },
  {
   "cell_type": "code",
   "execution_count": 13,
   "metadata": {},
   "outputs": [
    {
     "data": {
      "text/html": [
       "<pre>&lt;xarray.DataArray &#x27;socurloverf&#x27; (time_counter: 4368, y: 1191, x: 781)&gt;\n",
       "dask.array&lt;mul, shape=(4368, 1191, 781), dtype=float32, chunksize=(24, 500, 500), chunktype=numpy.ndarray&gt;\n",
       "Coordinates:\n",
       "  * time_counter  (time_counter) datetime64[ns] 2009-07-01T00:30:00 ... 2010-03-31T23:30:00\n",
       "Dimensions without coordinates: y, x</pre>"
      ],
      "text/plain": [
       "<xarray.DataArray 'socurloverf' (time_counter: 4368, y: 1191, x: 781)>\n",
       "dask.array<mul, shape=(4368, 1191, 781), dtype=float32, chunksize=(24, 500, 500), chunktype=numpy.ndarray>\n",
       "Coordinates:\n",
       "  * time_counter  (time_counter) datetime64[ns] 2009-07-01T00:30:00 ... 2010-03-31T23:30:00\n",
       "Dimensions without coordinates: y, x"
      ]
     },
     "execution_count": 13,
     "metadata": {},
     "output_type": "execute_result"
    }
   ],
   "source": [
    "wcurlT0 = curlT0.window\n",
    "wcurlT0.set(n=48,dim='time_counter', cutoff=T)\n",
    "curlT0_filt = wcurlT0.convolve()\n",
    "curlT0_filt"
   ]
  },
  {
   "cell_type": "code",
   "execution_count": 14,
   "metadata": {},
   "outputs": [
    {
     "data": {
      "text/html": [
       "<pre>&lt;xarray.DataArray &#x27;socurloverf&#x27; (time_counter: 4368, y: 1191, x: 781)&gt;\n",
       "dask.array&lt;mul, shape=(4368, 1191, 781), dtype=float32, chunksize=(24, 500, 500), chunktype=numpy.ndarray&gt;\n",
       "Coordinates:\n",
       "  * time_counter  (time_counter) datetime64[ns] 2009-07-01T00:30:00 ... 2010-03-31T23:30:00\n",
       "Dimensions without coordinates: y, x</pre>"
      ],
      "text/plain": [
       "<xarray.DataArray 'socurloverf' (time_counter: 4368, y: 1191, x: 781)>\n",
       "dask.array<mul, shape=(4368, 1191, 781), dtype=float32, chunksize=(24, 500, 500), chunktype=numpy.ndarray>\n",
       "Coordinates:\n",
       "  * time_counter  (time_counter) datetime64[ns] 2009-07-01T00:30:00 ... 2010-03-31T23:30:00\n",
       "Dimensions without coordinates: y, x"
      ]
     },
     "execution_count": 14,
     "metadata": {},
     "output_type": "execute_result"
    }
   ],
   "source": [
    "wcurl00 = curl00.window\n",
    "wcurl00.set(n=48,dim='time_counter', cutoff=T)\n",
    "curl00_filt = wcurl00.convolve()\n",
    "curl00_filt"
   ]
  },
  {
   "cell_type": "code",
   "execution_count": 15,
   "metadata": {},
   "outputs": [
    {
     "name": "stderr",
     "output_type": "stream",
     "text": [
      "distributed.nanny - WARNING - Restarting worker\n",
      "distributed.nanny - WARNING - Restarting worker\n"
     ]
    },
    {
     "ename": "KeyboardInterrupt",
     "evalue": "",
     "output_type": "error",
     "traceback": [
      "\u001b[0;31m---------------------------------------------------------------------------\u001b[0m",
      "\u001b[0;31mKeyboardInterrupt\u001b[0m                         Traceback (most recent call last)",
      "\u001b[0;32m<ipython-input-15-6559ca914f90>\u001b[0m in \u001b[0;36m<module>\u001b[0;34m\u001b[0m\n\u001b[1;32m      3\u001b[0m \u001b[0;34m\u001b[0m\u001b[0m\n\u001b[1;32m      4\u001b[0m \u001b[0mdomain\u001b[0m \u001b[0;34m=\u001b[0m \u001b[0;34m(\u001b[0m\u001b[0mbox\u001b[0m\u001b[0;34m[\u001b[0m\u001b[0;36m0\u001b[0m\u001b[0;34m]\u001b[0m\u001b[0;34m<\u001b[0m\u001b[0mnavlon\u001b[0m\u001b[0;34m)\u001b[0m\u001b[0;34m*\u001b[0m\u001b[0;34m(\u001b[0m\u001b[0mnavlon\u001b[0m\u001b[0;34m<\u001b[0m\u001b[0mbox\u001b[0m\u001b[0;34m[\u001b[0m\u001b[0;36m1\u001b[0m\u001b[0;34m]\u001b[0m\u001b[0;34m)\u001b[0m\u001b[0;34m*\u001b[0m\u001b[0;34m(\u001b[0m\u001b[0mbox\u001b[0m\u001b[0;34m[\u001b[0m\u001b[0;36m2\u001b[0m\u001b[0;34m]\u001b[0m\u001b[0;34m<\u001b[0m\u001b[0mnavlat\u001b[0m\u001b[0;34m)\u001b[0m\u001b[0;34m*\u001b[0m\u001b[0;34m(\u001b[0m\u001b[0mnavlat\u001b[0m\u001b[0;34m<\u001b[0m\u001b[0mbox\u001b[0m\u001b[0;34m[\u001b[0m\u001b[0;36m3\u001b[0m\u001b[0;34m]\u001b[0m\u001b[0;34m)\u001b[0m\u001b[0;34m\u001b[0m\u001b[0;34m\u001b[0m\u001b[0m\n\u001b[0;32m----> 5\u001b[0;31m \u001b[0mwhere\u001b[0m  \u001b[0;34m=\u001b[0m \u001b[0mnp\u001b[0m\u001b[0;34m.\u001b[0m\u001b[0mwhere\u001b[0m\u001b[0;34m(\u001b[0m\u001b[0mdomain\u001b[0m\u001b[0;34m)\u001b[0m\u001b[0;34m\u001b[0m\u001b[0;34m\u001b[0m\u001b[0m\n\u001b[0m\u001b[1;32m      6\u001b[0m \u001b[0mprint\u001b[0m\u001b[0;34m(\u001b[0m\u001b[0mwhere\u001b[0m\u001b[0;34m)\u001b[0m\u001b[0;34m\u001b[0m\u001b[0;34m\u001b[0m\u001b[0m\n\u001b[1;32m      7\u001b[0m \u001b[0;34m\u001b[0m\u001b[0m\n",
      "\u001b[0;32m<__array_function__ internals>\u001b[0m in \u001b[0;36mwhere\u001b[0;34m(*args, **kwargs)\u001b[0m\n",
      "\u001b[0;31mKeyboardInterrupt\u001b[0m: "
     ]
    }
   ],
   "source": [
    "#box = (-34.5,-32.0,34.8,38.4)\n",
    "box = (-31,-28,33,36)\n",
    "\n",
    "domain = (box[0]<navlon)*(navlon<box[1])*(box[2]<navlat)*(navlat<box[3])\n",
    "where  = np.where(domain)\n",
    "print(where)\n",
    "\n",
    "#lats = navlat[where]\n",
    "#lons = navlon[where]"
   ]
  },
  {
   "cell_type": "code",
   "execution_count": 19,
   "metadata": {},
   "outputs": [],
   "source": [
    "#ind = np.unravel_index(np.argmin(lats, axis=None), lats.shape)\n",
    "#jmin = where[0][ind[0]]\n",
    "#ind = np.unravel_index(np.argmax(lats, axis=None), lats.shape)\n",
    "#jmax = where[0][ind[0]]\n",
    "#ind = np.unravel_index(np.argmin(lons, axis=None), lons.shape)\n",
    "#imin = where[1][ind[1]]\n",
    "#ind = np.unravel_index(np.argmax(lons, axis=None), lons.shape)\n",
    "#imax = where[1][ind[1]]\n",
    "\n",
    "# Alternative for larger boxes (to avoid MemoryError)\n",
    "jmin = where[0][0]\n",
    "jmax = where[0][-1]\n",
    "imin = where[1][0]\n",
    "imax = where[1][-1]"
   ]
  },
  {
   "cell_type": "code",
   "execution_count": 20,
   "metadata": {},
   "outputs": [
    {
     "name": "stdout",
     "output_type": "stream",
     "text": [
      "jmin = 0; jmax = 4367\n",
      "imin = 667; imax = 882\n"
     ]
    }
   ],
   "source": [
    "print('jmin = '+str(jmin)+'; jmax = '+str(jmax))\n",
    "print('imin = '+str(imin)+'; imax = '+str(imax))"
   ]
  },
  {
   "cell_type": "code",
   "execution_count": 21,
   "metadata": {},
   "outputs": [
    {
     "data": {
      "text/html": [
       "<pre>&lt;xarray.DataArray &#x27;sostrainoverf&#x27; (time_counter: 4368, y: 1191, x: 781)&gt;\n",
       "dask.array&lt;mul, shape=(4368, 1191, 781), dtype=float32, chunksize=(24, 500, 500), chunktype=numpy.ndarray&gt;\n",
       "Coordinates:\n",
       "  * time_counter  (time_counter) datetime64[ns] 2009-07-01T00:30:00 ... 2010-03-31T23:30:00\n",
       "Dimensions without coordinates: y, x</pre>"
      ],
      "text/plain": [
       "<xarray.DataArray 'sostrainoverf' (time_counter: 4368, y: 1191, x: 781)>\n",
       "dask.array<mul, shape=(4368, 1191, 781), dtype=float32, chunksize=(24, 500, 500), chunktype=numpy.ndarray>\n",
       "Coordinates:\n",
       "  * time_counter  (time_counter) datetime64[ns] 2009-07-01T00:30:00 ... 2010-03-31T23:30:00\n",
       "Dimensions without coordinates: y, x"
      ]
     },
     "execution_count": 21,
     "metadata": {},
     "output_type": "execute_result"
    }
   ],
   "source": [
    "strainT0_filt"
   ]
  },
  {
   "cell_type": "code",
   "execution_count": 22,
   "metadata": {},
   "outputs": [
    {
     "data": {
      "text/html": [
       "<pre>&lt;xarray.DataArray &#x27;sostrainoverf&#x27; (y: 1191, x: 114)&gt;\n",
       "dask.array&lt;getitem, shape=(1191, 114), dtype=float32, chunksize=(500, 114), chunktype=numpy.ndarray&gt;\n",
       "Coordinates:\n",
       "    time_counter  datetime64[ns] 2009-07-01T00:30:00\n",
       "Dimensions without coordinates: y, x</pre>"
      ],
      "text/plain": [
       "<xarray.DataArray 'sostrainoverf' (y: 1191, x: 114)>\n",
       "dask.array<getitem, shape=(1191, 114), dtype=float32, chunksize=(500, 114), chunktype=numpy.ndarray>\n",
       "Coordinates:\n",
       "    time_counter  datetime64[ns] 2009-07-01T00:30:00\n",
       "Dimensions without coordinates: y, x"
      ]
     },
     "execution_count": 22,
     "metadata": {},
     "output_type": "execute_result"
    }
   ],
   "source": [
    "strainT0_filtbox = strainT0_filt[:,jmin:jmax+1,imin:imax+1]\n",
    "curlT0_filtbox   = curlT0_filt  [:,jmin:jmax+1,imin:imax+1]\n",
    "\n",
    "# This doesn't work for me because when I execute \n",
    "# dx,dy = wfs.get_dx_dy(strainT0_filtbox[0]) in the next cell\n",
    "# it doesn't find data.nav_lon because for me it should be data.x I guess. So I just change this in AJ's function?\n",
    "strainT0_filtbox[0]"
   ]
  },
  {
   "cell_type": "code",
   "execution_count": 23,
   "metadata": {},
   "outputs": [
    {
     "data": {
      "text/html": [
       "<pre>&lt;xarray.DataArray &#x27;sostrainoverf&#x27; (y: 1191, x: 114)&gt;\n",
       "dask.array&lt;getitem, shape=(1191, 114), dtype=float32, chunksize=(500, 114), chunktype=numpy.ndarray&gt;\n",
       "Coordinates:\n",
       "    time_counter  datetime64[ns] 2009-07-01T00:30:00\n",
       "Dimensions without coordinates: y, x</pre>"
      ],
      "text/plain": [
       "<xarray.DataArray 'sostrainoverf' (y: 1191, x: 114)>\n",
       "dask.array<getitem, shape=(1191, 114), dtype=float32, chunksize=(500, 114), chunktype=numpy.ndarray>\n",
       "Coordinates:\n",
       "    time_counter  datetime64[ns] 2009-07-01T00:30:00\n",
       "Dimensions without coordinates: y, x"
      ]
     },
     "execution_count": 23,
     "metadata": {},
     "output_type": "execute_result"
    }
   ],
   "source": [
    "strainT0_filtbox[0]"
   ]
  },
  {
   "cell_type": "code",
   "execution_count": 24,
   "metadata": {},
   "outputs": [
    {
     "data": {
      "text/plain": [
       "<matplotlib.collections.QuadMesh at 0x7fad96588390>"
      ]
     },
     "execution_count": 24,
     "metadata": {},
     "output_type": "execute_result"
    },
    {
     "data": {
      "image/png": "[encoded data removed]",
      "text/plain": [
       "<Figure size 432x288 with 2 Axes>"
      ]
     },
     "metadata": {
      "needs_background": "light"
     },
     "output_type": "display_data"
    }
   ],
   "source": [
    "strainT0_filtbox[0].plot()"
   ]
  },
  {
   "cell_type": "code",
   "execution_count": null,
   "metadata": {},
   "outputs": [],
   "source": [
    "dx,dy = wfs.get_dx_dy(strainT0_filtbox[0])\n",
    "strainT0_No_NaN = strainT0_filtbox.interpolate_na(dim='y')\n",
    "strainT0_dtr = wfs.detrendn(strainT0_No_NaN,axes=[0,1,2])\n",
    "strainT0_wdw = wfs.apply_window(strainT0_dtr, strainT0_dtr.dims, window_type='hanning')\n",
    "strainT0hat = xfft.fft(strainT0_wdw, dim=('time_counter', 'x', 'y'), dx={'x': dx, 'y': dx}, sym=True)\n",
    "strainT0_psd = xfft.psd(strainT0hat)\n",
    "strainT0_frequency,kx,ky = wfs.get_f_kx_ky(strainT0hat)\n",
    "strainT0filt_wavenumber,kradial = wfs.get_wavnum_kradial(kx,ky)\n",
    "strainT0filt_psd_np = strainT0_psd.values\n",
    "strainT0filt_wavenum_freq_spectrum = wfs.get_f_k_in_2D(kradial,strainT0filt_wavenumber,strainT0filt_psd_np)\n",
    "\n",
    "dx,dy = wfs.get_dx_dy(curlT0_filtbox[0])\n",
    "curlT0_No_NaN = curlT0_filtbox.interpolate_na(dim='y')\n",
    "curlT0_dtr = wfs.detrendn(curlT0_No_NaN,axes=[0,1,2])\n",
    "curlT0_wdw = wfs.apply_window(curlT0_dtr, curlT0_dtr.dims, window_type='hanning')\n",
    "curlT0hat = xfft.fft(curlT0_wdw, dim=('time_counter', 'x', 'y'), dx={'x': dx, 'y': dx}, sym=True)\n",
    "curlT0_psd = xfft.psd(curlT0hat)\n",
    "curlT0_frequency,kx,ky = wfs.get_f_kx_ky(curlT0hat)\n",
    "curlT0filt_wavenumber,kradial = wfs.get_wavnum_kradial(kx,ky)\n",
    "curlT0filt_psd_np = curlT0_psd.values\n",
    "curlT0filt_wavenum_freq_spectrum = wfs.get_f_k_in_2D(kradial,curlT0filt_wavenumber,curlT0filt_psd_np)\n",
    "\n",
    "KEtidefilt_wavenum_freq_spectrum=0.5*(strainT0filt_wavenum_freq_spectrum+curlT0filt_wavenum_freq_spectrum)"
   ]
  },
  {
   "cell_type": "code",
   "execution_count": null,
   "metadata": {},
   "outputs": [],
   "source": [
    "KEtidefilt_wavenum_freq_spectrum"
   ]
  },
  {
   "cell_type": "code",
   "execution_count": null,
   "metadata": {},
   "outputs": [],
   "source": []
  }
 ],
 "metadata": {
  "kernelspec": {
   "display_name": "pangeo_cloud",
   "language": "python",
   "name": "pangeo-cloud"
  },
  "language_info": {
   "codemirror_mode": {
    "name": "ipython",
    "version": 3
   },
   "file_extension": ".py",
   "mimetype": "text/x-python",
   "name": "python",
   "nbconvert_exporter": "python",
   "pygments_lexer": "ipython3",
   "version": "3.6.7"
  }
 },
 "nbformat": 4,
 "nbformat_minor": 4
}
