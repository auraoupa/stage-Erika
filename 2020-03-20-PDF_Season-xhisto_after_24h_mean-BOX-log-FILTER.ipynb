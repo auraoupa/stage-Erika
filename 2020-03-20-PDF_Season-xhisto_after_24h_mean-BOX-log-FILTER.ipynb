{
 "cells": [
  {
   "cell_type": "code",
   "execution_count": 1,
   "metadata": {},
   "outputs": [],
   "source": [
    "## Path for modules\n",
    "\n",
    "import sys\n",
    "\n",
    "import numpy as np\n",
    "import xarray as xr\n",
    "\n",
    "from netCDF4 import Dataset\n",
    "\n",
    "sys.path.insert(0,\"/mnt/meom/workdir/henelle/Notebooks/git/xscale\")\n",
    "import xscale\n",
    "import xscale.spectral.fft as xfft\n",
    "\n",
    "import cartopy.crs as ccrs\n",
    "import cartopy.feature as cfeature\n",
    "from cartopy.mpl.gridliner import LONGITUDE_FORMATTER, LATITUDE_FORMATTER\n",
    "\n",
    "import numpy.ma as ma\n",
    "\n",
    "import matplotlib.cm as mplcm\n",
    "import matplotlib.colors as colors\n",
    "from matplotlib import gridspec\n",
    "from mpl_toolkits.axes_grid1 import make_axes_locatable\n",
    "\n",
    "seq_cmap = mplcm.Blues\n",
    "div_cmap = mplcm.seismic\n",
    "\n",
    "import matplotlib.pyplot as plt\n",
    "import matplotlib as mpl\n",
    "from datetime import date, datetime\n",
    "from xhistogram.xarray import histogram\n",
    "\n",
    "import pandas as pd\n",
    "\n",
    "import seaborn as sns\n",
    "sns.set(color_codes=True)\n",
    "\n",
    "%matplotlib inline"
   ]
  },
  {
   "cell_type": "code",
   "execution_count": 2,
   "metadata": {},
   "outputs": [],
   "source": [
    "def plot_surf_plus_histo(data1,data2,hist_data1_00,hist_data1_T0,hist_data2_00,hist_data2_T0,lon,lat,i,lonmin,lonmax,\n",
    "                         latmin,latmax,vmin_data1,vmax_data1,vmin_data2,vmax_data2,cmap_data1,cmap_data2,\n",
    "                         var_title_data1,var_title_data2,date,season):\n",
    "    \n",
    "    fig = plt.figure(figsize=(14,20))\n",
    "    gs = gridspec.GridSpec(nrows=2, ncols=2, height_ratios=[2, 1.25]) \n",
    "    \n",
    "    \n",
    "    ax1 = fig.add_subplot(gs[0, 0],projection=ccrs.PlateCarree())#221\n",
    "    ax2 = fig.add_subplot(gs[0, 1],projection=ccrs.PlateCarree())#222\n",
    "    ax3 = fig.add_subplot(gs[1, 0])#223\n",
    "    ax4 = fig.add_subplot(gs[1, 1])#224\n",
    "    \n",
    "    # Adjust subplots\n",
    "    plt.subplots_adjust(hspace=0.0,wspace=0.1)\n",
    "    \n",
    "    norm_fld_data1 = colors.Normalize(vmin=vmin_data1, vmax=vmax_data1, clip=False)\n",
    "    norm_fld_data2 = colors.Normalize(vmin=vmin_data2, vmax=vmax_data2, clip=False)\n",
    "    \n",
    "    pcolor1 = ax1.pcolormesh(lon,lat,data1,cmap=cmap_data1,vmin=vmin_data1,vmax=vmax_data1,norm = norm_fld_data1)\n",
    "    pcolor2 = ax2.pcolormesh(lon,lat,data2,cmap=cmap_data2,vmin=vmin_data2,vmax=vmax_data2,norm = norm_fld_data2)\n",
    "    \n",
    "    # Add the Azores\n",
    "    land = cfeature.GSHHSFeature(scale='intermediate',\n",
    "                                 levels=[1],\n",
    "                                 facecolor='dimgray')\n",
    "    ax1.add_feature(land)\n",
    "    ax2.add_feature(land)\n",
    "    \n",
    "    \n",
    "    # Colorbar ax1\n",
    "    cax1,kw1   = mpl.colorbar.make_axes(ax1,location='bottom',pad=0.05,shrink=0.95)\n",
    "    out1       = fig.colorbar(pcolor1,cax=cax1,extend='both',**kw1)\n",
    "    out1.set_label(var_title_data1,size=16)\n",
    "    out1.ax.tick_params(labelsize=16)\n",
    "    xticks_ax1 = np.linspace(vmin_data1,vmax_data1,num=5)\n",
    "    out1.set_ticks(xticks_ax1)\n",
    "    \n",
    "    # Colorbar ax2\n",
    "    cax2,kw2   = mpl.colorbar.make_axes(ax2,location='bottom',pad=0.05,shrink=0.95)\n",
    "    out2       = fig.colorbar(pcolor2,cax=cax2,extend='max',**kw2)\n",
    "    out2.set_label(var_title_data2,size=16)\n",
    "    out2.ax.tick_params(labelsize=16)\n",
    "    xticks_ax2 = np.linspace(vmin_data2,vmax_data2,num=5)\n",
    "    out2.set_ticks(xticks_ax2)\n",
    "    \n",
    "    # Grid    \n",
    "    gl1            = ax1.gridlines(crs=ccrs.PlateCarree(),draw_labels=True,lw=1,color='gray',alpha=0.8, ls='--')\n",
    "    gl1.xformatter = LONGITUDE_FORMATTER\n",
    "    gl1.yformatter = LATITUDE_FORMATTER\n",
    "    gl1.xlabel_style = {'size': 13, 'color': 'dimgray'}\n",
    "    gl1.ylabel_style = {'size': 13, 'color': 'dimgray'}\n",
    "    gl1.xlabels_top = False\n",
    "    gl1.ylabels_right = False\n",
    "    gl2            = ax2.gridlines(crs=ccrs.PlateCarree(),draw_labels=True,lw=1,color='gray',alpha=0.8, ls='--')\n",
    "    gl2.xformatter = LONGITUDE_FORMATTER\n",
    "    gl2.yformatter = LATITUDE_FORMATTER\n",
    "    gl2.xlabel_style = {'size': 13, 'color': 'dimgray'}\n",
    "    gl2.ylabel_style = {'size': 13, 'color': 'dimgray'}\n",
    "    gl2.xlabels_top = False\n",
    "    gl2.ylabels_right = False\n",
    "    gl2.ylabels_left = False\n",
    "    \n",
    "    # Adjusting axes\n",
    "    ax1.set_xlim((-36, -26))\n",
    "    ax1.set_ylim((25, 40))\n",
    "    ax2.set_xlim((-36, -26))\n",
    "    ax2.set_ylim((25, 40))\n",
    "    \n",
    "    \n",
    "    # Chosen region\n",
    "    ax1.plot([lonmin, lonmax], [latmin, latmin],color='black',linewidth=4)\n",
    "    ax1.plot([lonmin, lonmax], [latmax, latmax],color='black',linewidth=4)\n",
    "    ax1.plot([lonmin, lonmin], [latmin, latmax],color='black',linewidth=4)\n",
    "    ax1.plot([lonmax, lonmax], [latmin, latmax],color='black',linewidth=4)\n",
    "    ax2.plot([lonmin, lonmax], [latmin, latmin],color='black',linewidth=4)\n",
    "    ax2.plot([lonmin, lonmax], [latmax, latmax],color='black',linewidth=4)\n",
    "    ax2.plot([lonmin, lonmin], [latmin, latmax],color='black',linewidth=4)\n",
    "    ax2.plot([lonmax, lonmax], [latmin, latmax],color='black',linewidth=4)\n",
    "    \n",
    "    \n",
    "    # Adding histograms\n",
    "    hist_data1_00.plot(ax=ax3,label='no tide',lw=3.0,color='lightseagreen')\n",
    "    hist_data1_T0.plot(ax=ax3,label='tide',lw=3.0,linestyle='-.',color='darkred')\n",
    "    ax3.set_xlabel('24h filtered '+var_title_data1,size=16)\n",
    "    ax3.set_ylabel('')\n",
    "    ax3.tick_params(labelsize=15)\n",
    "\n",
    "    hist_data2_00.plot(ax=ax4,label='no tide',lw=3.0,color='lightseagreen')\n",
    "    hist_data2_T0.plot(ax=ax4,label='tide',lw=3.0,linestyle='-.',color='darkred')\n",
    "    ax4.set_xlabel('24h filtered '+var_title_data2,size=16)\n",
    "    ax4.set_ylabel('')\n",
    "    ax4.tick_params(labelsize=15)\n",
    "    \n",
    "    # Designing legend\n",
    "    plt.draw()\n",
    "    handles, labels = ax3.get_legend_handles_labels()\n",
    "    fig.legend(handles, labels, loc='center',frameon=True,shadow=True,fontsize=16,bbox_to_anchor=(0.5, 0.07, 0.5, 0.5),\n",
    "               markerscale=5.0,framealpha=0.8,edgecolor='black',facecolor='white')\n",
    "    \n",
    "    # Adding text box for defining region\n",
    "    props   = dict(boxstyle='round', facecolor='orange', alpha=0.5)\n",
    "    textstr = 'Region:\\n \\n '+str(np.abs(lonmin))+'$^o$W to '+str(np.abs(lonmax))+'$^o$W \\n '+str(latmin)+'$^o$N to '+str(latmax)+'$^o$N'\n",
    "    ax4.text(0.6,0.7,textstr,bbox=props,size=16,transform=ax4.transAxes)\n",
    "\n",
    "    ax3.set_xlim((-0.5,0.5))\n",
    "    ax4.set_xlim((0,0.5))\n",
    "    \n",
    "    \n",
    "    # Figure titles\n",
    "    ts = pd.to_datetime(str(date))\n",
    "    d = ts.strftime('%d/%m/%y %H:%M')\n",
    "    \n",
    "    ax1.set_title(var_title_data1+' no tide; '+str(d),size=16, y=1.05)\n",
    "    ax2.set_title(var_title_data2+' no tide; '+str(d),size=16, y=1.05)\n",
    "    plt.suptitle(season,size=20,y=0.925)\n",
    "    #plt.tight_layout()\n",
    "    \n",
    "    plt.savefig('./maps_region_PDF/log_Box+Hist_24h_ave_after_mean_file_BOX_'+str(lonmin)+'_'+str(lonmax)+'_'+str(latmin)+'_'\n",
    "                +str(latmax)+'_'+season+'_'+'.png',dpi=100,bbox_inches='tight',pad_inches=0.1)\n",
    "    #plt.clf()\n",
    "    "
   ]
  },
  {
   "cell_type": "code",
   "execution_count": 3,
   "metadata": {},
   "outputs": [],
   "source": [
    "## Dataset\n",
    "\n",
    "data_dirT0 = '/mnt/meom/workdir/henelle/eNATL60/eNATL60-BLBT02-S/1h/ACO/'\n",
    "data_dir00 = '/mnt/meom/workdir/henelle/eNATL60/eNATL60-BLB002-S/1h/ACO/'"
   ]
  },
  {
   "cell_type": "code",
   "execution_count": 4,
   "metadata": {},
   "outputs": [],
   "source": [
    "## All files, JAS\n",
    "\n",
    "# No tide\n",
    "tfilename_strain00 = data_dir00 + 'eNATL60ACO-BLB002_y2009*.1h_strain10m.nc'\n",
    "tfilename_curl00   = data_dir00 + 'eNATL60ACO-BLB002_y2009*.1h_curl10m.nc'\n",
    "\n",
    "# Tide\n",
    "tfilename_strainT0 = data_dirT0 + 'eNATL60ACO-BLBT02_y2009*.1h_strain10m.nc'\n",
    "tfilename_curlT0   = data_dirT0 + 'eNATL60ACO-BLBT02_y2009*.1h_curl10m.nc'"
   ]
  },
  {
   "cell_type": "code",
   "execution_count": 5,
   "metadata": {},
   "outputs": [],
   "source": [
    "fstrain00 = xr.open_mfdataset(tfilename_strain00,combine='by_coords')\n",
    "strain00 = fstrain00['sostrainoverf'][:]\n",
    "navlat = fstrain00['nav_lat']\n",
    "navlon = fstrain00['nav_lon']\n",
    "\n",
    "fstrainT0 = xr.open_mfdataset(tfilename_strainT0,combine='by_coords')\n",
    "strainT0=fstrainT0['sostrainoverf'][:]\n",
    "\n",
    "fcurl00 = xr.open_mfdataset(tfilename_curl00,combine='by_coords')\n",
    "curl00=fcurl00['socurloverf'][:]\n",
    "\n",
    "fcurlT0   = xr.open_mfdataset(tfilename_curlT0,combine='by_coords')\n",
    "curlT0 = fcurlT0['socurloverf'][:]"
   ]
  },
  {
   "cell_type": "code",
   "execution_count": 6,
   "metadata": {},
   "outputs": [
    {
     "name": "stdout",
     "output_type": "stream",
     "text": [
      "<xarray.DataArray 'sostrainoverf' (time_counter: 2208, y: 1191, x: 781)>\n",
      "dask.array<concatenate, shape=(2208, 1191, 781), dtype=float32, chunksize=(24, 1191, 781), chunktype=numpy.ndarray>\n",
      "Coordinates:\n",
      "  * time_counter  (time_counter) datetime64[ns] 2009-07-01T00:30:00 ... 2009-09-30T23:30:00\n",
      "Dimensions without coordinates: y, x\n",
      "Attributes:\n",
      "    units:             -\n",
      "    valid_min:         -1000.0\n",
      "    valid_max:         1000.0\n",
      "    long_name:         Relative_Vorticity (strain)\n",
      "    short_name:        sostrain\n",
      "    iweight:           1\n",
      "    online_operation:  N/A\n",
      "    axis:              TYX\n",
      "    savelog10:         0.0\n",
      "<xarray.DataArray 'nav_lon' (time_counter: 2208, y: 1191, x: 781)>\n",
      "dask.array<concatenate, shape=(2208, 1191, 781), dtype=float32, chunksize=(24, 1191, 781), chunktype=numpy.ndarray>\n",
      "Coordinates:\n",
      "  * time_counter  (time_counter) datetime64[ns] 2009-07-01T00:30:00 ... 2009-09-30T23:30:00\n",
      "Dimensions without coordinates: y, x\n",
      "Attributes:\n",
      "    standard_name:  longitude\n",
      "    long_name:      Longitude\n",
      "    units:          degrees_east\n"
     ]
    }
   ],
   "source": [
    "print(strainT0)\n",
    "print(navlon)"
   ]
  },
  {
   "cell_type": "code",
   "execution_count": 7,
   "metadata": {},
   "outputs": [],
   "source": [
    "T=2*np.pi/(1E-4)"
   ]
  },
  {
   "cell_type": "code",
   "execution_count": 8,
   "metadata": {},
   "outputs": [],
   "source": [
    "wstrainT0 = strainT0.window\n",
    "wstrainT0.set(n=48,dim='time_counter', cutoff=2*T)\n",
    "strainT0_filt = wstrainT0.convolve()"
   ]
  },
  {
   "cell_type": "code",
   "execution_count": 9,
   "metadata": {},
   "outputs": [],
   "source": [
    "wstrain00 = strain00.window\n",
    "wstrain00.set(n=48,dim='time_counter', cutoff=2*T)\n",
    "strain00_filt = wstrain00.convolve()"
   ]
  },
  {
   "cell_type": "code",
   "execution_count": 10,
   "metadata": {},
   "outputs": [],
   "source": [
    "wcurlT0 = curlT0.window\n",
    "wcurlT0.set(n=48,dim='time_counter', cutoff=2*T)\n",
    "curlT0_filt = wcurlT0.convolve()"
   ]
  },
  {
   "cell_type": "code",
   "execution_count": 11,
   "metadata": {},
   "outputs": [
    {
     "data": {
      "text/html": [
       "<pre>&lt;xarray.DataArray &#x27;socurloverf&#x27; (time_counter: 2208, y: 1191, x: 781)&gt;\n",
       "dask.array&lt;mul, shape=(2208, 1191, 781), dtype=float32, chunksize=(24, 1191, 781), chunktype=numpy.ndarray&gt;\n",
       "Coordinates:\n",
       "  * time_counter  (time_counter) datetime64[ns] 2009-07-01T00:30:00 ... 2009-09-30T23:30:00\n",
       "Dimensions without coordinates: y, x</pre>"
      ],
      "text/plain": [
       "<xarray.DataArray 'socurloverf' (time_counter: 2208, y: 1191, x: 781)>\n",
       "dask.array<mul, shape=(2208, 1191, 781), dtype=float32, chunksize=(24, 1191, 781), chunktype=numpy.ndarray>\n",
       "Coordinates:\n",
       "  * time_counter  (time_counter) datetime64[ns] 2009-07-01T00:30:00 ... 2009-09-30T23:30:00\n",
       "Dimensions without coordinates: y, x"
      ]
     },
     "execution_count": 11,
     "metadata": {},
     "output_type": "execute_result"
    }
   ],
   "source": [
    "wcurl00 = curl00.window\n",
    "wcurl00.set(n=48,dim='time_counter', cutoff=2*T)\n",
    "curl00_filt = wcurl00.convolve()\n",
    "curl00_filt"
   ]
  },
  {
   "cell_type": "code",
   "execution_count": null,
   "metadata": {},
   "outputs": [],
   "source": []
  },
  {
   "cell_type": "code",
   "execution_count": null,
   "metadata": {},
   "outputs": [],
   "source": []
  },
  {
   "cell_type": "code",
   "execution_count": 12,
   "metadata": {},
   "outputs": [
    {
     "ename": "ValueError",
     "evalue": "dimensions are too large; arrays and shapes with a total size greater than 'intp' are not supported.",
     "output_type": "error",
     "traceback": [
      "\u001b[0;31m---------------------------------------------------------------------------\u001b[0m",
      "\u001b[0;31mValueError\u001b[0m                                Traceback (most recent call last)",
      "\u001b[0;32m<ipython-input-12-56e1fef08afc>\u001b[0m in \u001b[0;36m<module>\u001b[0;34m\u001b[0m\n\u001b[1;32m     14\u001b[0m \u001b[0mlons\u001b[0m\u001b[0;34m=\u001b[0m\u001b[0mnavlon\u001b[0m\u001b[0;34m[\u001b[0m\u001b[0mwhere\u001b[0m\u001b[0;34m]\u001b[0m\u001b[0;34m\u001b[0m\u001b[0;34m\u001b[0m\u001b[0m\n\u001b[1;32m     15\u001b[0m \u001b[0;34m\u001b[0m\u001b[0m\n\u001b[0;32m---> 16\u001b[0;31m \u001b[0mind\u001b[0m \u001b[0;34m=\u001b[0m \u001b[0mnp\u001b[0m\u001b[0;34m.\u001b[0m\u001b[0munravel_index\u001b[0m\u001b[0;34m(\u001b[0m\u001b[0mnp\u001b[0m\u001b[0;34m.\u001b[0m\u001b[0margmin\u001b[0m\u001b[0;34m(\u001b[0m\u001b[0mlats\u001b[0m\u001b[0;34m,\u001b[0m \u001b[0maxis\u001b[0m\u001b[0;34m=\u001b[0m\u001b[0;32mNone\u001b[0m\u001b[0;34m)\u001b[0m\u001b[0;34m,\u001b[0m \u001b[0mlats\u001b[0m\u001b[0;34m.\u001b[0m\u001b[0mshape\u001b[0m\u001b[0;34m)\u001b[0m\u001b[0;34m\u001b[0m\u001b[0;34m\u001b[0m\u001b[0m\n\u001b[0m\u001b[1;32m     17\u001b[0m \u001b[0mjmin\u001b[0m \u001b[0;34m=\u001b[0m \u001b[0mwhere\u001b[0m\u001b[0;34m[\u001b[0m\u001b[0;36m0\u001b[0m\u001b[0;34m]\u001b[0m\u001b[0;34m[\u001b[0m\u001b[0mind\u001b[0m\u001b[0;34m[\u001b[0m\u001b[0;36m0\u001b[0m\u001b[0;34m]\u001b[0m\u001b[0;34m]\u001b[0m\u001b[0;34m\u001b[0m\u001b[0;34m\u001b[0m\u001b[0m\n\u001b[1;32m     18\u001b[0m \u001b[0mind\u001b[0m \u001b[0;34m=\u001b[0m \u001b[0mnp\u001b[0m\u001b[0;34m.\u001b[0m\u001b[0munravel_index\u001b[0m\u001b[0;34m(\u001b[0m\u001b[0mnp\u001b[0m\u001b[0;34m.\u001b[0m\u001b[0margmax\u001b[0m\u001b[0;34m(\u001b[0m\u001b[0mlats\u001b[0m\u001b[0;34m,\u001b[0m \u001b[0maxis\u001b[0m\u001b[0;34m=\u001b[0m\u001b[0;32mNone\u001b[0m\u001b[0;34m)\u001b[0m\u001b[0;34m,\u001b[0m \u001b[0mlats\u001b[0m\u001b[0;34m.\u001b[0m\u001b[0mshape\u001b[0m\u001b[0;34m)\u001b[0m\u001b[0;34m\u001b[0m\u001b[0;34m\u001b[0m\u001b[0m\n",
      "\u001b[0;32m<__array_function__ internals>\u001b[0m in \u001b[0;36munravel_index\u001b[0;34m(*args, **kwargs)\u001b[0m\n",
      "\u001b[0;31mValueError\u001b[0m: dimensions are too large; arrays and shapes with a total size greater than 'intp' are not supported."
     ]
    }
   ],
   "source": [
    "## Selecting box\n",
    "\n",
    "#box    = (-31.5,-27,30.6,36)\n",
    "#box    = (-34.0,-31.5,25.2,28.8)\n",
    "#box    = (-34.0,-31.5,34.2,37.8)\n",
    "#box    = (-34.5,-32.0,34.8,38.4)\n",
    "#box    = (-35.0,-32.5,35.4,39.0)\n",
    "\n",
    "box=(-31,-28,33,36)\n",
    "domain=(box[0]<navlon)*(navlon<box[1])*(box[2]<navlat)*(navlat<box[3])\n",
    "where=np.where(domain)\n",
    "\n",
    "lats=navlat[where]\n",
    "lons=navlon[where]\n",
    "\n",
    "ind = np.unravel_index(np.argmin(lats, axis=None), lats.shape)\n",
    "jmin = where[0][ind[0]]\n",
    "ind = np.unravel_index(np.argmax(lats, axis=None), lats.shape)\n",
    "jmax = where[0][ind[0]]\n",
    "ind = np.unravel_index(np.argmin(lons, axis=None), lons.shape)\n",
    "imin = where[0][ind[1]]\n",
    "ind = np.unravel_index(np.argmax(lons, axis=None), lons.shape)\n",
    "imax = where[0][ind[1]]\n"
   ]
  },
  {
   "cell_type": "markdown",
   "metadata": {},
   "source": [
    "jmin = where[0][0]\n",
    "jmax = where[0][-1]\n",
    "imin = where[1][0]\n",
    "imax = where[1][-1]"
   ]
  },
  {
   "cell_type": "code",
   "execution_count": null,
   "metadata": {},
   "outputs": [],
   "source": [
    "print('jmin = '+str(jmin)+'; jmax = '+str(jmax))\n",
    "print('imin = '+str(imin)+'; imax = '+str(imax))"
   ]
  },
  {
   "cell_type": "code",
   "execution_count": null,
   "metadata": {},
   "outputs": [],
   "source": []
  },
  {
   "cell_type": "code",
   "execution_count": null,
   "metadata": {},
   "outputs": [],
   "source": [
    "strainT0_filtbox = strainT0_filt[:,jmin:jmax+1,imin:imax+1].stack(z=('x', 'y','time_counter'))\n",
    "strain00_filtbox = strain00_filt[:,jmin:jmax+1,imin:imax+1].stack(z=('x', 'y','time_counter'))\n",
    "curlT0_filtbox = curlT0_filt[:,jmin:jmax+1,imin:imax+1].stack(z=('x', 'y','time_counter'))\n",
    "curl00_filtbox = curl00_filt[:,jmin:jmax+1,imin:imax+1].stack(z=('x', 'y','time_counter'))"
   ]
  },
  {
   "cell_type": "code",
   "execution_count": null,
   "metadata": {},
   "outputs": [],
   "source": []
  },
  {
   "cell_type": "code",
   "execution_count": null,
   "metadata": {},
   "outputs": [],
   "source": [
    "now_hist = datetime.now()\n",
    "current_time_hist = now_hist.strftime(\"%H:%M:%S\")\n",
    "print(\"Current Time, before histograms =\", current_time_hist)"
   ]
  },
  {
   "cell_type": "code",
   "execution_count": null,
   "metadata": {},
   "outputs": [],
   "source": []
  },
  {
   "cell_type": "markdown",
   "metadata": {},
   "source": [
    "La partie ci-dessous n'a pas encore été adapté."
   ]
  },
  {
   "cell_type": "markdown",
   "metadata": {},
   "source": [
    "### Histograms JAS"
   ]
  },
  {
   "cell_type": "markdown",
   "metadata": {},
   "source": [
    "sbins = np.arange(0.0,0.5, 0.025)\n",
    "cbins = np.arange(-0.5,0.5, 0.025)"
   ]
  },
  {
   "cell_type": "markdown",
   "metadata": {},
   "source": [
    "hist_JAS_strain00_filtbox = histogram(strain00_filtbox,bins=[sbins])\n",
    "hist_JAS_strainT0_filtbox = histogram(strainT0_filtbox,bins=[sbins])\n",
    "hist_JAS_curl00_filtbox   = histogram(curl00_filtbox,bins=[cbins])\n",
    "hist_JAS_curlT0_filtbox   = histogram(curlT0_filtbox,bins=[cbins])"
   ]
  },
  {
   "cell_type": "markdown",
   "metadata": {},
   "source": [
    "#np.seterr(divide = 'ignore')\n",
    "#with np.errstate(divide='ignore'):\n",
    "\n",
    "log_hist_JAS_strain00 = np.log10(hist_JAS_strain00)\n",
    "log_hist_JAS_strainT0 = np.log10(hist_JAS_strainT0)\n",
    "log_hist_JAS_curl00   = np.log10(hist_JAS_curl00)\n",
    "log_hist_JAS_curlT0   = np.log10(hist_JAS_curlT0)"
   ]
  },
  {
   "cell_type": "markdown",
   "metadata": {},
   "source": [
    "### JAS"
   ]
  },
  {
   "cell_type": "markdown",
   "metadata": {},
   "source": [
    "plot_surf_plus_histo(ds_JAS_curl00.socurloverf[45,:,:],ds_JAS_strain00.sostrainoverf[45,:,:],log_hist_JAS_curl00,\n",
    "                     log_hist_JAS_curlT0,log_hist_JAS_strain00,log_hist_JAS_strainT0,navlon,navlat,45,-34.5,-32.0,34.8,38.4,vmin_data1=-0.5,vmax_data1=0.5,vmin_data2=0,vmax_data2=0.5,\n",
    "                     cmap_data1='RdYlBu_r',cmap_data2='YlGn',var_title_data1='curl/f',var_title_data2='strain/f',\n",
    "                     date=str(ds_JAS_strain00.time_counter.values[45]),season='JAS')"
   ]
  },
  {
   "cell_type": "code",
   "execution_count": null,
   "metadata": {},
   "outputs": [],
   "source": []
  },
  {
   "cell_type": "markdown",
   "metadata": {},
   "source": [
    "weights_curltidefilt = np.ones_like(curltidefiltbox)/float(len(curltidefiltbox))\n",
    "weights_curlnotidefilt =  np.ones_like(curlnotidefiltbox)/float(len(curlnotidefiltbox))\n",
    "weights_straintidefilt = np.ones_like(straintidefiltbox)/float(len(straintidefiltbox))\n",
    "weights_strainnotidefilt = np.ones_like(strainnotidefiltbox)/float(len(strainnotidefiltbox))"
   ]
  },
  {
   "cell_type": "markdown",
   "metadata": {},
   "source": [
    "fig = plt.figure(figsize=(18.0, 12.0))\n",
    "axes1 = fig.add_subplot(1, 2, 1)\n",
    "\n",
    "nstraintide, binsstraintide, patchs = axes1.hist(straintidefiltbox,500, alpha = 0.5,range=(0,1),color='r', weights=weights_straintidefilt,log=True)\n",
    "nstrainnotide, binsstrainnotide, patchs = axes1.hist(strainnotidefiltbox,500, alpha = 0.5,range=(0,1),color='b', weights=weights_strainnotidefilt,log=True)\n",
    "\n",
    "ncurltide,binscurltide,patchs = axes1.hist(curltidefiltbox,500, alpha = 0.5,range=(-1,1),color='r', weights=weights_curltidefilt,log=True)\n",
    "ncurlnotide,binscurlnotide,patchs = axes1.hist(curlnotidefiltbox,500, alpha = 0.5,range=(-1,1),color='b', weights=weights_curlnotidefilt,log=True)\n",
    "\n",
    "plt.clf()\n",
    "fig = plt.figure(figsize=(18.0, 12.0))\n",
    "axes1 = fig.add_subplot(1, 2, 1)\n",
    "\n",
    "maxmax=np.max([np.max(nstraintide),np.max(nstrainnotide)])\n",
    "axes1.plot(binsstraintide[0:-1],nstraintide/maxmax, color='b',linestyle='--',label='tide')\n",
    "axes1.plot(binsstrainnotide[0:-1],nstrainnotide/maxmax, color='b',linestyle='-', label='no tide')\n",
    "axes1.set_ylim(0.0001,1)\n",
    "axes1.set_xlim(0,1)\n",
    "plt.yscale('log')\n",
    "plt.xticks([0,0.2,0.4,0.6,0.8,1])\n",
    "plt.tick_params('both',labelsize=18)\n",
    "#plt.ticklabel_format(style='sci', axis='x', scilimits=(0,0))\n",
    "plt.xlabel('surface filtered strain/f',fontsize=22)\n",
    "plt.legend(fontsize=18)\n",
    "plt.grid(True,which='minor',axis='y', linestyle='--')\n",
    "plt.grid(True,which='major',axis='both')\n",
    "\n",
    "axes1 = fig.add_subplot(1, 2, 2)\n",
    "\n",
    "maxmax=np.max([np.max(ncurltide),np.max(ncurlnotide)])\n",
    "axes1.plot(binscurltide[0:-1],ncurltide/maxmax, color='b',linestyle='--',label='tide')\n",
    "axes1.plot(binscurlnotide[0:-1],ncurlnotide/maxmax, color='b',linestyle='-', label='no tide')\n",
    "axes1.set_xlim(-1,1)\n",
    "axes1.set_ylim(0.0001,1)\n",
    "plt.yscale('log')\n",
    "plt.xticks([-1,-0.5,0,0.5,1])\n",
    "plt.tick_params('both',labelsize=18)\n",
    "#plt.ticklabel_format(style='sci', axis='x', scilimits=(0,0))\n",
    "plt.xlabel('surface filtered curl/f',fontsize=22)\n",
    "plt.legend(fontsize=18)\n",
    "plt.grid(True,which='minor',axis='y', linestyle='--')\n",
    "plt.grid(True,which='major',axis='both')"
   ]
  },
  {
   "cell_type": "code",
   "execution_count": null,
   "metadata": {},
   "outputs": [],
   "source": [
    "now_end_plot = datetime.now()\n",
    "current_time_end_plot = now_end_plot.strftime(\"%H:%M:%S\")\n",
    "print(\"Current Time, after plotting =\", current_time_end_plot)"
   ]
  },
  {
   "cell_type": "code",
   "execution_count": null,
   "metadata": {},
   "outputs": [],
   "source": []
  }
 ],
 "metadata": {
  "kernelspec": {
   "display_name": "Python 3",
   "language": "python",
   "name": "python3"
  },
  "language_info": {
   "codemirror_mode": {
    "name": "ipython",
    "version": 3
   },
   "file_extension": ".py",
   "mimetype": "text/x-python",
   "name": "python",
   "nbconvert_exporter": "python",
   "pygments_lexer": "ipython3",
   "version": "3.8.1"
  }
 },
 "nbformat": 4,
 "nbformat_minor": 4
}
