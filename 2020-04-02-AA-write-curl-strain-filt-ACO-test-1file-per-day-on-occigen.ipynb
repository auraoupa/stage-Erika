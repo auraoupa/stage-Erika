{
 "cells": [
  {
   "cell_type": "code",
   "execution_count": 1,
   "metadata": {},
   "outputs": [
    {
     "name": "stderr",
     "output_type": "stream",
     "text": [
      "/scratch/cnt0024/hmg2840/albert7a/anaconda3/lib/python3.7/site-packages/dask/config.py:168: YAMLLoadWarning: calling yaml.load() without Loader=... is deprecated, as the default Loader is unsafe. Please read https://msg.pyyaml.org/load for full details.\n",
      "  data = yaml.load(f.read()) or {}\n",
      "/scratch/cnt0024/hmg2840/albert7a/anaconda3/lib/python3.7/site-packages/distributed/bokeh/core.py:74: UserWarning: \n",
      "Failed to start diagnostics server on port 8787. [Errno 13] Permission denied\n",
      "  warnings.warn(\"\\n\" + msg)\n"
     ]
    },
    {
     "data": {
      "text/html": [
       "<table style=\"border: 2px solid white;\">\n",
       "<tr>\n",
       "<td style=\"vertical-align: top; border: 0px solid white\">\n",
       "<h3>Client</h3>\n",
       "<ul>\n",
       "  <li><b>Scheduler: </b>tcp://172.30.100.4:45291\n",
       "  <li><b>Dashboard: </b><a href='http://172.30.100.4:45223/status' target='_blank'>http://172.30.100.4:45223/status</a>\n",
       "</ul>\n",
       "</td>\n",
       "<td style=\"vertical-align: top; border: 0px solid white\">\n",
       "<h3>Cluster</h3>\n",
       "<ul>\n",
       "  <li><b>Workers: </b>0</li>\n",
       "  <li><b>Cores: </b>0</li>\n",
       "  <li><b>Memory: </b>0 B</li>\n",
       "</ul>\n",
       "</td>\n",
       "</tr>\n",
       "</table>"
      ],
      "text/plain": [
       "<Client: scheduler='tcp://172.30.100.4:45291' processes=0 cores=0>"
      ]
     },
     "execution_count": 1,
     "metadata": {},
     "output_type": "execute_result"
    }
   ],
   "source": [
    "from dask_jobqueue import SLURMCluster \n",
    "from dask.distributed import Client \n",
    "  \n",
    "cluster = SLURMCluster(cores=28,name='make_profiles',walltime='00:30:00',job_extra=['--constraint=HSW24','--exclusive','--nodes=1'],memory='120GB',interface='ib0') \n",
    "cluster.scale(196)\n",
    "cluster\n",
    "\n",
    "from dask.distributed import Client\n",
    "client = Client(cluster)\n",
    "client\n",
    "\n"
   ]
  },
  {
   "cell_type": "code",
   "execution_count": 2,
   "metadata": {},
   "outputs": [
    {
     "name": "stdout",
     "output_type": "stream",
     "text": [
      "             JOBID PARTITION     NAME     USER ST       TIME  NODES NODELIST(REASON)\n",
      "           9961802     hsw24 make_pro albert7a PD       0:00      1 (Resources)\n",
      "           9961803     hsw24 make_pro albert7a PD       0:00      1 (Priority)\n",
      "           9961804     hsw24 make_pro albert7a PD       0:00      1 (Priority)\n",
      "           9961805     hsw24 make_pro albert7a PD       0:00      1 (Priority)\n",
      "           9961806     hsw24 make_pro albert7a PD       0:00      1 (Priority)\n",
      "           9961807     hsw24 make_pro albert7a PD       0:00      1 (Priority)\n",
      "           9961801     hsw24 make_pro albert7a  R       0:00      1 n2780\n",
      "11\n"
     ]
    }
   ],
   "source": [
    "!squeue -u albert7a\n",
    "\n",
    "import time\n",
    "nb_workers = 0\n",
    "while True:\n",
    "    nb_workers = len(client.scheduler_info()[\"workers\"])\n",
    "    if nb_workers >= 2:\n",
    "        break\n",
    "    time.sleep(1)\n",
    "print(nb_workers)"
   ]
  },
  {
   "cell_type": "code",
   "execution_count": 3,
   "metadata": {},
   "outputs": [],
   "source": [
    "## Path for modules\n",
    "\n",
    "import sys\n",
    "\n",
    "import numpy as np\n",
    "import xarray as xr\n",
    "\n",
    "from netCDF4 import Dataset\n",
    "\n",
    "sys.path.insert(0,\"/scratch/cnt0024/hmg2840/albert7a/DEV/git/xscale\")\n",
    "import xscale\n",
    "import xscale.spectral.fft as xfft\n",
    "\n",
    "import cartopy.crs as ccrs\n",
    "import cartopy.feature as cfeature\n",
    "from cartopy.mpl.gridliner import LONGITUDE_FORMATTER, LATITUDE_FORMATTER\n",
    "\n",
    "import numpy.ma as ma\n",
    "\n",
    "import matplotlib.cm as mplcm\n",
    "import matplotlib.colors as colors\n",
    "from matplotlib import gridspec\n",
    "from mpl_toolkits.axes_grid1 import make_axes_locatable\n",
    "\n",
    "import matplotlib.pyplot as plt\n",
    "import matplotlib as mpl\n",
    "from datetime import date, datetime\n",
    "#from xhistogram.xarray import histogram\n",
    "\n",
    "import pandas as pd\n",
    "\n",
    "import seaborn as sns\n",
    "sns.set(color_codes=True)\n",
    "\n",
    "%matplotlib inline"
   ]
  },
  {
   "cell_type": "code",
   "execution_count": 4,
   "metadata": {},
   "outputs": [],
   "source": [
    "def curl(u,v,e1v,e2u,ff):\n",
    "    '''\n",
    "    This routine computes the relative vorticity from 2D fields of horizontal velocities and the spatial Coriolis parameter.\n",
    "    '''\n",
    "    #Computation of dy(u)\n",
    "    fe2u=1/e2u\n",
    "    fse2u=fe2u.squeeze()\n",
    "    dyu=(u.shift(y=-1) - u)*fse2u\n",
    "    #Computation of dx(v)\n",
    "    fe1v=1/e1v\n",
    "    fse1v=fe1v.squeeze()\n",
    "    dxv=(v.shift(x=-1) - v)*fse1v\n",
    "    #Projection on the grid T\n",
    "    dxvt=0.5*(dxv.shift(y=-1)+dxv)\n",
    "    dyut=0.5*(dyu.shift(x=-1)+dyu)\n",
    "    #Computation of the vorticity divided by f\n",
    "    fff=1/ff\n",
    "    curl=(dxvt-dyut)*fff\n",
    "    return curl"
   ]
  },
  {
   "cell_type": "code",
   "execution_count": 5,
   "metadata": {},
   "outputs": [],
   "source": [
    "def strain(u,v,e1u,e1v,e2u,e2v,ff):\n",
    "    '''\n",
    "    This routine computes the relative vorticity from 2D fields of horizontal velocities and the spatial Coriolis parameter.\n",
    "    '''\n",
    "    #Computation of dy(u)\n",
    "    fe2u=1/e2u\n",
    "    fse2u=fe2u.squeeze()\n",
    "    dyu=(u.shift(y=-1) - u)*fse2u\n",
    "    #Computation of dx(v)\n",
    "    fe1v=1/e1v\n",
    "    fse1v=fe1v.squeeze()\n",
    "    dxv=(v.shift(x=-1) - v)*fse1v\n",
    "    #Computation of dy(v)\n",
    "    fe2v=1/e2v\n",
    "    fse2v=fe2v.squeeze()\n",
    "    dyv=(v.shift(y=-1) - v)*fse2v\n",
    "    #Computation of dx(u)\n",
    "    fe1u=1/e1u\n",
    "    fse1u=fe1u.squeeze()\n",
    "    dxu=(u.shift(x=-1) - u)*fse1u\n",
    "    #Projection on the grid T\n",
    "    dxvt=0.5*(dxv.shift(y=-1)+dxv)\n",
    "    dyut=0.5*(dyu.shift(x=-1)+dyu)\n",
    "    dxut=0.5*(dxu.shift(x=-1)+dxu)\n",
    "    dyvt=0.5*(dyv.shift(y=-1)+dyv)\n",
    "    #Computation of the strain divided by f\n",
    "    fff=1/ff\n",
    "    strain=np.sqrt( (dyut+dxvt)*(dyut+dxvt) + (dxut-dyvt)*(dxut-dyvt) ) *fff\n",
    "    return strain"
   ]
  },
  {
   "cell_type": "code",
   "execution_count": 6,
   "metadata": {},
   "outputs": [],
   "source": [
    "## Dataset : grid files and one example of U and V for test\n",
    "\n",
    "\n",
    "# Opening grid files\n",
    "\n",
    "dirgrid='/scratch/cnt0024/hmg2840/albert7a/eNATL60/eNATL60-I/'\n",
    "gridfile=dirgrid+'mesh_hgr_eNATL60ACO_3.6.nc'\n",
    "dsgrid=xr.open_dataset(gridfile,chunks={'x':200,'y':200})\n",
    "\n",
    "e1u=dsgrid.e1u\n",
    "e1v=dsgrid.e1v\n",
    "e2u=dsgrid.e2u\n",
    "e2v=dsgrid.e2v\n",
    "ff=dsgrid.ff\n",
    "\n",
    "\n",
    "\n"
   ]
  },
  {
   "cell_type": "code",
   "execution_count": 7,
   "metadata": {},
   "outputs": [],
   "source": [
    "    # Opening u & v grid files\n",
    "    # With tide\n",
    "\n",
    "    dirvarT0='/scratch/cnt0024/hmg2840/albert7a/eNATL60/eNATL60-BLBT02-S/1h/ACO/'\n",
    "    ufileT0=dirvarT0+'eNATL60ACO-BLBT02_y2009m*.1h_vozocrtx10m.nc' # JAS\n",
    "    vfileT0=dirvarT0+'eNATL60ACO-BLBT02_y2009m*.1h_vomecrty10m.nc' # JAS\n",
    "    dsuT0=xr.open_mfdataset(ufileT0,combine='by_coords',parallel=True,chunks={'time_counter':1008,'x':100,'y':1000})\n",
    "    dsvT0=xr.open_mfdataset(vfileT0,combine='by_coords',parallel=True,chunks={'time_counter':1008,'x':100,'y':1000})\n",
    "    uT0=dsuT0.vozocrtx\n",
    "    vT0=dsvT0.vomecrty \n",
    "    lon=dsuT0.nav_lon\n",
    "    lat=dsuT0.nav_lat\n",
    "\n",
    "    # Without tide\n",
    "\n",
    "    dirvar00='/scratch/cnt0024/hmg2840/albert7a/eNATL60/eNATL60-BLB002-S/1h/ACO/'\n",
    "    ufile00=dirvar00+'eNATL60ACO-BLB002_y2009m*.1h_vozocrtx10m.nc' # JAS\n",
    "    vfile00=dirvar00+'eNATL60ACO-BLB002_y2009m*.1h_vomecrty10m.nc' # JAS\n",
    "    dsu00=xr.open_mfdataset(ufile00,combine='by_coords',parallel=True,chunks={'time_counter':1008,'x':100,'y':1000})\n",
    "    dsv00=xr.open_mfdataset(vfile00,combine='by_coords',parallel=True,chunks={'time_counter':1008,'x':100,'y':1000})\n",
    "    u00=dsu00.vozocrtx\n",
    "    v00=dsv00.vomecrty# Filtering of u & v\n",
    "\n",
    "    T=2*np.pi/(1E-4) # Coriolis period\n",
    "\n",
    "    wuT0 = uT0.window\n",
    "    wuT0.set(n=48,dim='time_counter', cutoff=2*T)\n",
    "    uT0_filt = wuT0.convolve()\n",
    "\n",
    "    wu00 = u00.window\n",
    "    wu00.set(n=48,dim='time_counter', cutoff=2*T)\n",
    "    u00_filt = wu00.convolve()\n",
    "\n",
    "    wvT0 = vT0.window\n",
    "    wvT0.set(n=48,dim='time_counter', cutoff=2*T)\n",
    "    vT0_filt = wvT0.convolve()\n",
    "\n",
    "    wv00 = v00.window\n",
    "    wv00.set(n=48,dim='time_counter', cutoff=2*T)\n",
    "    v00_filt = wv00.convolve()\n",
    "    ### Compute curl and strain with python\n",
    "\n",
    "    curlT0_filt   = curl(uT0_filt,vT0_filt,e1v,e2u,ff)\n",
    "    curl00_filt   = curl(u00_filt,v00_filt,e1v,e2u,ff)\n",
    "    strainT0_filt = strain(uT0_filt,vT0_filt,e1u,e1v,e2u,e2v,ff)\n",
    "    strain00_filt = strain(u00_filt,v00_filt,e1u,e1v,e2u,e2v,ff)\n",
    "\n",
    "#    curlT0_filt_da=xr.DataArray(curlT0_filt.squeeze(),dims=['time_counter','y','x'],name=\"Curl_Tide_Filt\",coords=['lon','lat'])\n",
    "#    curlT0_filt_da.attrs['Name']='eNATL60ACO-BLBT02_y2009m07-09_socurloverf10m_filt2T.nc'\n",
    "#    curlT0_filt_da.to_dataset().to_netcdf(path='/scratch/cnt0024/hmg2840/albert7a/eNATL60/eNATL60-BLBT02-S/1h/ACO/eNATL60ACO-BLBT02_y2009m07-09_socurloverf10m_filt2T.nc',mode='w',engine='scipy')\n",
    "\n"
   ]
  },
  {
   "cell_type": "code",
   "execution_count": 8,
   "metadata": {},
   "outputs": [
    {
     "name": "stdout",
     "output_type": "stream",
     "text": [
      "CPU times: user 3.75 s, sys: 919 ms, total: 4.67 s\n",
      "Wall time: 5.81 s\n"
     ]
    }
   ],
   "source": [
    "%%time\n",
    "\n",
    "curl00_filt_1day = curl00_filt.squeeze()[0:23]\n",
    "\n",
    "curl00_filt_da=xr.DataArray(curl00_filt_1day,dims=['time_counter','y','x'],name=\"Curl_noTide_Filt\")\n",
    "curl00_filt_da.attrs['Name']='eNATL60ACO-BLB002_y2009m07d01_socurloverf10m_filt2T.nc'\n",
    "curl00_filt_da.to_dataset().to_netcdf(path='/scratch/cnt0024/hmg2840/albert7a/eNATL60/eNATL60-BLB002-S/1h/ACO/eNATL60ACO-BLB002_y2009m07d01_socurloverf10m_filt2T.nc',mode='w',engine='scipy')\n",
    "\n"
   ]
  }
 ],
 "metadata": {
  "kernelspec": {
   "display_name": "Python 2",
   "language": "python",
   "name": "python2"
  },
  "language_info": {
   "codemirror_mode": {
    "name": "ipython",
    "version": 2
   },
   "file_extension": ".py",
   "mimetype": "text/x-python",
   "name": "python",
   "nbconvert_exporter": "python",
   "pygments_lexer": "ipython2",
   "version": "2.7.16"
  }
 },
 "nbformat": 4,
 "nbformat_minor": 4
}
