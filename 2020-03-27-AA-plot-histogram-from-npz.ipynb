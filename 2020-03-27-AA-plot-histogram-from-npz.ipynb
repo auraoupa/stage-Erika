{
 "cells": [
  {
   "cell_type": "code",
   "execution_count": null,
   "metadata": {},
   "outputs": [],
   "source": [
    "## Path for modules\n",
    "\n",
    "import sys\n",
    "\n",
    "import numpy as np\n",
    "import xarray as xr\n",
    "\n",
    "from netCDF4 import Dataset\n",
    "\n",
    "sys.path.insert(0,\"/mnt/meom/workdir/henelle/Notebooks/git/xscale\")\n",
    "import xscale\n",
    "import xscale.spectral.fft as xfft\n",
    "\n",
    "import cartopy.crs as ccrs\n",
    "import cartopy.feature as cfeature\n",
    "from cartopy.mpl.gridliner import LONGITUDE_FORMATTER, LATITUDE_FORMATTER\n",
    "\n",
    "import numpy.ma as ma\n",
    "\n",
    "import matplotlib.cm as mplcm\n",
    "import matplotlib.colors as colors\n",
    "from matplotlib import gridspec\n",
    "from mpl_toolkits.axes_grid1 import make_axes_locatable\n",
    "\n",
    "import matplotlib.pyplot as plt\n",
    "import matplotlib as mpl\n",
    "from datetime import date, datetime\n",
    "from xhistogram.xarray import histogram\n",
    "\n",
    "import pandas as pd\n",
    "\n",
    "import seaborn as sns\n",
    "sns.set(color_codes=True)\n",
    "\n",
    "%matplotlib inline"
   ]
  },
  {
   "cell_type": "code",
   "execution_count": null,
   "metadata": {},
   "outputs": [],
   "source": [
    "log_hist_JAS_strain00=np.load(log_hist_JAS_strain00.npz)\n",
    "log_hist_JAS_strainT0=np.load(log_hist_JAS_strainT0.npz)\n",
    "log_hist_JAS_curl00=np.load(log_hist_JAS_curl00.npz)\n",
    "log_hist_JAS_curlT0=np.load(log_hist_JAS_curlT0.npz)"
   ]
  },
  {
   "cell_type": "code",
   "execution_count": null,
   "metadata": {},
   "outputs": [],
   "source": [
    "fig = plt.figure(figsize=(14,20))\n",
    "gs = gridspec.GridSpec(nrows=1, ncols=2, height_ratios=[2]) \n",
    "\n",
    "ax1 = fig.add_subplot(gs[0, 0])\n",
    "ax2 = fig.add_subplot(gs[0, 1])\n",
    "\n",
    "\n",
    "# Adding histograms\n",
    "log_hist_JAS_curl00.plot(ax=ax1,label='no tide',lw=3.0,color='lightseagreen')\n",
    "log_hist_JAS_curlT0.plot(ax=ax1,label='tide',lw=3.0,linestyle='-.',color='darkred')\n",
    "ax1.set_xlabel('24h filtered '+'curl/f',size=16)\n",
    "ax1.set_ylabel('')\n",
    "ax1.tick_params(labelsize=15)\n",
    "\n",
    "log_hist_JAS_strain00.plot(ax=ax2,label='no tide',lw=3.0,color='lightseagreen')\n",
    "log_hist_JAS_strainT0.plot(ax=ax2,label='tide',lw=3.0,linestyle='-.',color='darkred')\n",
    "ax2.set_xlabel('24h filtered '+'strain/f',size=16)\n",
    "ax2.set_ylabel('')\n",
    "ax2.tick_params(labelsize=15)\n",
    "\n",
    "# Designing legend\n",
    "plt.draw()\n",
    "handles, labels = ax1.get_legend_handles_labels()\n",
    "fig.legend(handles, labels, loc='center',frameon=True,shadow=True,fontsize=16,bbox_to_anchor=(0.5, 0.07, 0.5, 0.5),\n",
    "           markerscale=5.0,framealpha=0.8,edgecolor='black',facecolor='white')\n",
    "\n",
    "\n",
    "ax1.set_xlim((-0.5,0.5))\n",
    "ax2.set_xlim((0,0.5))"
   ]
  }
 ],
 "metadata": {
  "kernelspec": {
   "display_name": "erika",
   "language": "python",
   "name": "erika"
  },
  "language_info": {
   "codemirror_mode": {
    "name": "ipython",
    "version": 3
   },
   "file_extension": ".py",
   "mimetype": "text/x-python",
   "name": "python",
   "nbconvert_exporter": "python",
   "pygments_lexer": "ipython3",
   "version": "3.6.10"
  }
 },
 "nbformat": 4,
 "nbformat_minor": 4
}
